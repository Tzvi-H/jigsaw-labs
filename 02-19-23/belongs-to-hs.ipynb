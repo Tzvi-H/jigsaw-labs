{
  "cells": [
    {
      "cell_type": "markdown",
      "metadata": {
        "id": "view-in-github",
        "colab_type": "text"
      },
      "source": [
        "<a href=\"https://colab.research.google.com/github/Tzvi-H/jigsaw-labs/blob/main/02-19-23/belongs-to-hs.ipynb\" target=\"_parent\"><img src=\"https://colab.research.google.com/assets/colab-badge.svg\" alt=\"Open In Colab\"/></a>"
      ]
    },
    {
      "cell_type": "markdown",
      "metadata": {
        "id": "lic3niGYhUDx"
      },
      "source": [
        "# Belongs To High School Data"
      ]
    },
    {
      "cell_type": "markdown",
      "metadata": {
        "id": "n1EkPTeuhUET"
      },
      "source": [
        "### Introduction\n",
        "The database we are looking at in this lab has two tables, `sat_records` and `high_schools`. Each row of the `sat_records` table represents a school also found in the `high_schools` table. The records in the `sat_records` table \"belong to\" the schools in the `high_schools` table. Both tables have a key in the column \"dbn\" that is a unique identifier for each school, and will be our way of connecting the data between the two tables. We do this by using a JOIN clause."
      ]
    },
    {
      "cell_type": "markdown",
      "metadata": {
        "id": "iArz259JhUEo"
      },
      "source": [
        "Let's begin by connecting to the database and reviewing the structure of the tables:"
      ]
    },
    {
      "cell_type": "code",
      "execution_count": 1,
      "metadata": {
        "id": "MrAqxraGhUEq"
      },
      "outputs": [],
      "source": [
        "import sqlite3\n",
        "conn = sqlite3.connect('schools.db')\n",
        "cursor = conn.cursor()"
      ]
    },
    {
      "cell_type": "code",
      "execution_count": 2,
      "metadata": {
        "id": "ZbOAHMiIhUE2"
      },
      "outputs": [],
      "source": [
        "import pandas as pd\n",
        "highschools_url = \"https://raw.githubusercontent.com/sql-fundamentals-jigsaw/mod-1-sql-curriculum/master/2-sql-relations/2-belongs-to-hs/data/highschools.csv\"\n",
        "sat_records_url = \"https://raw.githubusercontent.com/sql-fundamentals-jigsaw/mod-1-sql-curriculum/master/2-sql-relations/2-belongs-to-hs/data/sat_records.csv\"\n",
        "df_hs = pd.read_csv(highschools_url)\n",
        "df_sat = pd.read_csv(sat_records_url)\n",
        "df_hs.to_sql('high_schools' ,conn, index = False, if_exists = 'replace')\n",
        "df_sat.to_sql('sat_records' ,conn, index = False, if_exists = 'replace')"
      ]
    },
    {
      "cell_type": "code",
      "execution_count": 3,
      "metadata": {
        "id": "Z6HTB_jrhUE5",
        "outputId": "3026ed31-41dc-491d-897b-e1c772ef2268",
        "colab": {
          "base_uri": "https://localhost:8080/",
          "height": 81
        }
      },
      "outputs": [
        {
          "output_type": "execute_result",
          "data": {
            "text/plain": [
              "   id     dbn                                  school_name boro  \\\n",
              "0   0  16K498  Brooklyn High School for Law and Technology    K   \n",
              "\n",
              "   total_students  graduation_rate  attendance_rate  college_career_rate  \n",
              "0             594             0.74             0.85                 0.49  "
            ],
            "text/html": [
              "\n",
              "  <div id=\"df-88c37f86-97f7-4abf-8e0f-de43df2f79d5\">\n",
              "    <div class=\"colab-df-container\">\n",
              "      <div>\n",
              "<style scoped>\n",
              "    .dataframe tbody tr th:only-of-type {\n",
              "        vertical-align: middle;\n",
              "    }\n",
              "\n",
              "    .dataframe tbody tr th {\n",
              "        vertical-align: top;\n",
              "    }\n",
              "\n",
              "    .dataframe thead th {\n",
              "        text-align: right;\n",
              "    }\n",
              "</style>\n",
              "<table border=\"1\" class=\"dataframe\">\n",
              "  <thead>\n",
              "    <tr style=\"text-align: right;\">\n",
              "      <th></th>\n",
              "      <th>id</th>\n",
              "      <th>dbn</th>\n",
              "      <th>school_name</th>\n",
              "      <th>boro</th>\n",
              "      <th>total_students</th>\n",
              "      <th>graduation_rate</th>\n",
              "      <th>attendance_rate</th>\n",
              "      <th>college_career_rate</th>\n",
              "    </tr>\n",
              "  </thead>\n",
              "  <tbody>\n",
              "    <tr>\n",
              "      <th>0</th>\n",
              "      <td>0</td>\n",
              "      <td>16K498</td>\n",
              "      <td>Brooklyn High School for Law and Technology</td>\n",
              "      <td>K</td>\n",
              "      <td>594</td>\n",
              "      <td>0.74</td>\n",
              "      <td>0.85</td>\n",
              "      <td>0.49</td>\n",
              "    </tr>\n",
              "  </tbody>\n",
              "</table>\n",
              "</div>\n",
              "      <button class=\"colab-df-convert\" onclick=\"convertToInteractive('df-88c37f86-97f7-4abf-8e0f-de43df2f79d5')\"\n",
              "              title=\"Convert this dataframe to an interactive table.\"\n",
              "              style=\"display:none;\">\n",
              "        \n",
              "  <svg xmlns=\"http://www.w3.org/2000/svg\" height=\"24px\"viewBox=\"0 0 24 24\"\n",
              "       width=\"24px\">\n",
              "    <path d=\"M0 0h24v24H0V0z\" fill=\"none\"/>\n",
              "    <path d=\"M18.56 5.44l.94 2.06.94-2.06 2.06-.94-2.06-.94-.94-2.06-.94 2.06-2.06.94zm-11 1L8.5 8.5l.94-2.06 2.06-.94-2.06-.94L8.5 2.5l-.94 2.06-2.06.94zm10 10l.94 2.06.94-2.06 2.06-.94-2.06-.94-.94-2.06-.94 2.06-2.06.94z\"/><path d=\"M17.41 7.96l-1.37-1.37c-.4-.4-.92-.59-1.43-.59-.52 0-1.04.2-1.43.59L10.3 9.45l-7.72 7.72c-.78.78-.78 2.05 0 2.83L4 21.41c.39.39.9.59 1.41.59.51 0 1.02-.2 1.41-.59l7.78-7.78 2.81-2.81c.8-.78.8-2.07 0-2.86zM5.41 20L4 18.59l7.72-7.72 1.47 1.35L5.41 20z\"/>\n",
              "  </svg>\n",
              "      </button>\n",
              "      \n",
              "  <style>\n",
              "    .colab-df-container {\n",
              "      display:flex;\n",
              "      flex-wrap:wrap;\n",
              "      gap: 12px;\n",
              "    }\n",
              "\n",
              "    .colab-df-convert {\n",
              "      background-color: #E8F0FE;\n",
              "      border: none;\n",
              "      border-radius: 50%;\n",
              "      cursor: pointer;\n",
              "      display: none;\n",
              "      fill: #1967D2;\n",
              "      height: 32px;\n",
              "      padding: 0 0 0 0;\n",
              "      width: 32px;\n",
              "    }\n",
              "\n",
              "    .colab-df-convert:hover {\n",
              "      background-color: #E2EBFA;\n",
              "      box-shadow: 0px 1px 2px rgba(60, 64, 67, 0.3), 0px 1px 3px 1px rgba(60, 64, 67, 0.15);\n",
              "      fill: #174EA6;\n",
              "    }\n",
              "\n",
              "    [theme=dark] .colab-df-convert {\n",
              "      background-color: #3B4455;\n",
              "      fill: #D2E3FC;\n",
              "    }\n",
              "\n",
              "    [theme=dark] .colab-df-convert:hover {\n",
              "      background-color: #434B5C;\n",
              "      box-shadow: 0px 1px 3px 1px rgba(0, 0, 0, 0.15);\n",
              "      filter: drop-shadow(0px 1px 2px rgba(0, 0, 0, 0.3));\n",
              "      fill: #FFFFFF;\n",
              "    }\n",
              "  </style>\n",
              "\n",
              "      <script>\n",
              "        const buttonEl =\n",
              "          document.querySelector('#df-88c37f86-97f7-4abf-8e0f-de43df2f79d5 button.colab-df-convert');\n",
              "        buttonEl.style.display =\n",
              "          google.colab.kernel.accessAllowed ? 'block' : 'none';\n",
              "\n",
              "        async function convertToInteractive(key) {\n",
              "          const element = document.querySelector('#df-88c37f86-97f7-4abf-8e0f-de43df2f79d5');\n",
              "          const dataTable =\n",
              "            await google.colab.kernel.invokeFunction('convertToInteractive',\n",
              "                                                     [key], {});\n",
              "          if (!dataTable) return;\n",
              "\n",
              "          const docLinkHtml = 'Like what you see? Visit the ' +\n",
              "            '<a target=\"_blank\" href=https://colab.research.google.com/notebooks/data_table.ipynb>data table notebook</a>'\n",
              "            + ' to learn more about interactive tables.';\n",
              "          element.innerHTML = '';\n",
              "          dataTable['output_type'] = 'display_data';\n",
              "          await google.colab.output.renderOutput(dataTable, element);\n",
              "          const docLink = document.createElement('div');\n",
              "          docLink.innerHTML = docLinkHtml;\n",
              "          element.appendChild(docLink);\n",
              "        }\n",
              "      </script>\n",
              "    </div>\n",
              "  </div>\n",
              "  "
            ]
          },
          "metadata": {},
          "execution_count": 3
        }
      ],
      "source": [
        "pd.read_sql('select * from high_schools limit 1;',conn)"
      ]
    },
    {
      "cell_type": "code",
      "execution_count": 4,
      "metadata": {
        "id": "w_XM3brchUE6",
        "outputId": "eb65eaa6-6d72-4f74-9637-4e5e84f77fbd",
        "colab": {
          "base_uri": "https://localhost:8080/",
          "height": 81
        }
      },
      "outputs": [
        {
          "output_type": "execute_result",
          "data": {
            "text/plain": [
              "   id     dbn                                           name  num_test_takers  \\\n",
              "0   0  01M292  HENRY STREET SCHOOL FOR INTERNATIONAL STUDIES             29.0   \n",
              "\n",
              "   reading_avg  math_avg  writing_score  \n",
              "0        355.0     404.0          363.0  "
            ],
            "text/html": [
              "\n",
              "  <div id=\"df-50cff726-5915-4da4-8cb1-2fbb8e421585\">\n",
              "    <div class=\"colab-df-container\">\n",
              "      <div>\n",
              "<style scoped>\n",
              "    .dataframe tbody tr th:only-of-type {\n",
              "        vertical-align: middle;\n",
              "    }\n",
              "\n",
              "    .dataframe tbody tr th {\n",
              "        vertical-align: top;\n",
              "    }\n",
              "\n",
              "    .dataframe thead th {\n",
              "        text-align: right;\n",
              "    }\n",
              "</style>\n",
              "<table border=\"1\" class=\"dataframe\">\n",
              "  <thead>\n",
              "    <tr style=\"text-align: right;\">\n",
              "      <th></th>\n",
              "      <th>id</th>\n",
              "      <th>dbn</th>\n",
              "      <th>name</th>\n",
              "      <th>num_test_takers</th>\n",
              "      <th>reading_avg</th>\n",
              "      <th>math_avg</th>\n",
              "      <th>writing_score</th>\n",
              "    </tr>\n",
              "  </thead>\n",
              "  <tbody>\n",
              "    <tr>\n",
              "      <th>0</th>\n",
              "      <td>0</td>\n",
              "      <td>01M292</td>\n",
              "      <td>HENRY STREET SCHOOL FOR INTERNATIONAL STUDIES</td>\n",
              "      <td>29.0</td>\n",
              "      <td>355.0</td>\n",
              "      <td>404.0</td>\n",
              "      <td>363.0</td>\n",
              "    </tr>\n",
              "  </tbody>\n",
              "</table>\n",
              "</div>\n",
              "      <button class=\"colab-df-convert\" onclick=\"convertToInteractive('df-50cff726-5915-4da4-8cb1-2fbb8e421585')\"\n",
              "              title=\"Convert this dataframe to an interactive table.\"\n",
              "              style=\"display:none;\">\n",
              "        \n",
              "  <svg xmlns=\"http://www.w3.org/2000/svg\" height=\"24px\"viewBox=\"0 0 24 24\"\n",
              "       width=\"24px\">\n",
              "    <path d=\"M0 0h24v24H0V0z\" fill=\"none\"/>\n",
              "    <path d=\"M18.56 5.44l.94 2.06.94-2.06 2.06-.94-2.06-.94-.94-2.06-.94 2.06-2.06.94zm-11 1L8.5 8.5l.94-2.06 2.06-.94-2.06-.94L8.5 2.5l-.94 2.06-2.06.94zm10 10l.94 2.06.94-2.06 2.06-.94-2.06-.94-.94-2.06-.94 2.06-2.06.94z\"/><path d=\"M17.41 7.96l-1.37-1.37c-.4-.4-.92-.59-1.43-.59-.52 0-1.04.2-1.43.59L10.3 9.45l-7.72 7.72c-.78.78-.78 2.05 0 2.83L4 21.41c.39.39.9.59 1.41.59.51 0 1.02-.2 1.41-.59l7.78-7.78 2.81-2.81c.8-.78.8-2.07 0-2.86zM5.41 20L4 18.59l7.72-7.72 1.47 1.35L5.41 20z\"/>\n",
              "  </svg>\n",
              "      </button>\n",
              "      \n",
              "  <style>\n",
              "    .colab-df-container {\n",
              "      display:flex;\n",
              "      flex-wrap:wrap;\n",
              "      gap: 12px;\n",
              "    }\n",
              "\n",
              "    .colab-df-convert {\n",
              "      background-color: #E8F0FE;\n",
              "      border: none;\n",
              "      border-radius: 50%;\n",
              "      cursor: pointer;\n",
              "      display: none;\n",
              "      fill: #1967D2;\n",
              "      height: 32px;\n",
              "      padding: 0 0 0 0;\n",
              "      width: 32px;\n",
              "    }\n",
              "\n",
              "    .colab-df-convert:hover {\n",
              "      background-color: #E2EBFA;\n",
              "      box-shadow: 0px 1px 2px rgba(60, 64, 67, 0.3), 0px 1px 3px 1px rgba(60, 64, 67, 0.15);\n",
              "      fill: #174EA6;\n",
              "    }\n",
              "\n",
              "    [theme=dark] .colab-df-convert {\n",
              "      background-color: #3B4455;\n",
              "      fill: #D2E3FC;\n",
              "    }\n",
              "\n",
              "    [theme=dark] .colab-df-convert:hover {\n",
              "      background-color: #434B5C;\n",
              "      box-shadow: 0px 1px 3px 1px rgba(0, 0, 0, 0.15);\n",
              "      filter: drop-shadow(0px 1px 2px rgba(0, 0, 0, 0.3));\n",
              "      fill: #FFFFFF;\n",
              "    }\n",
              "  </style>\n",
              "\n",
              "      <script>\n",
              "        const buttonEl =\n",
              "          document.querySelector('#df-50cff726-5915-4da4-8cb1-2fbb8e421585 button.colab-df-convert');\n",
              "        buttonEl.style.display =\n",
              "          google.colab.kernel.accessAllowed ? 'block' : 'none';\n",
              "\n",
              "        async function convertToInteractive(key) {\n",
              "          const element = document.querySelector('#df-50cff726-5915-4da4-8cb1-2fbb8e421585');\n",
              "          const dataTable =\n",
              "            await google.colab.kernel.invokeFunction('convertToInteractive',\n",
              "                                                     [key], {});\n",
              "          if (!dataTable) return;\n",
              "\n",
              "          const docLinkHtml = 'Like what you see? Visit the ' +\n",
              "            '<a target=\"_blank\" href=https://colab.research.google.com/notebooks/data_table.ipynb>data table notebook</a>'\n",
              "            + ' to learn more about interactive tables.';\n",
              "          element.innerHTML = '';\n",
              "          dataTable['output_type'] = 'display_data';\n",
              "          await google.colab.output.renderOutput(dataTable, element);\n",
              "          const docLink = document.createElement('div');\n",
              "          docLink.innerHTML = docLinkHtml;\n",
              "          element.appendChild(docLink);\n",
              "        }\n",
              "      </script>\n",
              "    </div>\n",
              "  </div>\n",
              "  "
            ]
          },
          "metadata": {},
          "execution_count": 4
        }
      ],
      "source": [
        "pd.read_sql('select * from sat_records limit 1;',conn)"
      ]
    },
    {
      "cell_type": "markdown",
      "metadata": {
        "id": "YzH-W1nkhUE7"
      },
      "source": [
        "### Exploring the Data"
      ]
    },
    {
      "cell_type": "code",
      "execution_count": 5,
      "metadata": {
        "id": "C5FwgDi6hUE7",
        "outputId": "c3a8f77b-5e3a-4cf6-fbf5-97dbbb255931",
        "colab": {
          "base_uri": "https://localhost:8080/"
        }
      },
      "outputs": [
        {
          "output_type": "execute_result",
          "data": {
            "text/plain": [
              "[('high_schools',), ('sat_records',)]"
            ]
          },
          "metadata": {},
          "execution_count": 5
        }
      ],
      "source": [
        "cursor.execute('SELECT name from sqlite_master where type= \"table\"')\n",
        "cursor.fetchall()"
      ]
    },
    {
      "cell_type": "code",
      "execution_count": 6,
      "metadata": {
        "id": "eTN5vY17hUE9",
        "outputId": "338d987c-e012-4db5-a546-ab40219acb39",
        "colab": {
          "base_uri": "https://localhost:8080/"
        }
      },
      "outputs": [
        {
          "output_type": "execute_result",
          "data": {
            "text/plain": [
              "[(0, 'id', 'INTEGER', 0, None, 0),\n",
              " (1, 'dbn', 'TEXT', 0, None, 0),\n",
              " (2, 'school_name', 'TEXT', 0, None, 0),\n",
              " (3, 'boro', 'TEXT', 0, None, 0),\n",
              " (4, 'total_students', 'INTEGER', 0, None, 0),\n",
              " (5, 'graduation_rate', 'REAL', 0, None, 0),\n",
              " (6, 'attendance_rate', 'REAL', 0, None, 0),\n",
              " (7, 'college_career_rate', 'REAL', 0, None, 0)]"
            ]
          },
          "metadata": {},
          "execution_count": 6
        }
      ],
      "source": [
        "cursor.execute('PRAGMA table_info(high_schools)')\n",
        "cursor.fetchall()"
      ]
    },
    {
      "cell_type": "code",
      "execution_count": 7,
      "metadata": {
        "id": "OtN56B0fhUFF",
        "outputId": "243c8b7d-8f2c-4e6d-cce6-a28ffd938b5c",
        "colab": {
          "base_uri": "https://localhost:8080/"
        }
      },
      "outputs": [
        {
          "output_type": "execute_result",
          "data": {
            "text/plain": [
              "[(0, 'id', 'INTEGER', 0, None, 0),\n",
              " (1, 'dbn', 'TEXT', 0, None, 0),\n",
              " (2, 'name', 'TEXT', 0, None, 0),\n",
              " (3, 'num_test_takers', 'REAL', 0, None, 0),\n",
              " (4, 'reading_avg', 'REAL', 0, None, 0),\n",
              " (5, 'math_avg', 'REAL', 0, None, 0),\n",
              " (6, 'writing_score', 'REAL', 0, None, 0)]"
            ]
          },
          "metadata": {},
          "execution_count": 7
        }
      ],
      "source": [
        "cursor.execute('PRAGMA table_info(sat_records)')\n",
        "cursor.fetchall()"
      ]
    },
    {
      "cell_type": "markdown",
      "metadata": {
        "id": "WW63CofBhUFR"
      },
      "source": [
        "Each of the following questions require information in both of the tables in the database. Use the JOIN clause to find the solution."
      ]
    },
    {
      "cell_type": "markdown",
      "metadata": {
        "id": "EcnxDaAxhUFU"
      },
      "source": [
        "* In which boro is the school that has the highest writing score?"
      ]
    },
    {
      "cell_type": "code",
      "execution_count": 12,
      "metadata": {
        "id": "ZjDZM9oZhUFd",
        "outputId": "429e107b-5cb1-4ce8-b463-54efbd820c3a",
        "colab": {
          "base_uri": "https://localhost:8080/"
        }
      },
      "outputs": [
        {
          "output_type": "execute_result",
          "data": {
            "text/plain": [
              "[('M', 682.0)]"
            ]
          },
          "metadata": {},
          "execution_count": 12
        }
      ],
      "source": [
        "cursor.execute(\"\"\"\n",
        "select high_schools.boro, sat_records.writing_score from sat_records\n",
        "join high_schools on sat_records.dbn = high_schools.dbn\n",
        "order by writing_score desc \n",
        "limit 1;\n",
        "\"\"\")\n",
        "cursor.fetchall()\n",
        "\n",
        "# [('M', 682.0)]"
      ]
    },
    {
      "cell_type": "markdown",
      "metadata": {
        "id": "iD5cWRM-hUFh"
      },
      "source": [
        "* In which boro is the school with the lowest math average?"
      ]
    },
    {
      "cell_type": "code",
      "execution_count": 25,
      "metadata": {
        "id": "tZho0USkhUFh",
        "outputId": "1b0c7893-15ef-4ce0-9152-ea6a5f4a4d01",
        "colab": {
          "base_uri": "https://localhost:8080/"
        }
      },
      "outputs": [
        {
          "output_type": "execute_result",
          "data": {
            "text/plain": [
              "[('X', 312.0)]"
            ]
          },
          "metadata": {},
          "execution_count": 25
        }
      ],
      "source": [
        "cursor.execute(\"\"\"\n",
        "select high_schools.boro, sat_records.math_avg from sat_records\n",
        "join high_schools on sat_records.dbn = high_schools.dbn\n",
        "where sat_records.math_avg is not null\n",
        "order by math_avg\n",
        "limit 1;\n",
        "\"\"\")\n",
        "cursor.fetchall()\n",
        "\n",
        "# [('X', 312.0)]"
      ]
    },
    {
      "cell_type": "markdown",
      "metadata": {
        "id": "0F1xnbefhUFj"
      },
      "source": [
        "* What is the highest math_avg for schools with more than 1000 students?"
      ]
    },
    {
      "cell_type": "code",
      "execution_count": 29,
      "metadata": {
        "id": "1wJks82vhUFk",
        "outputId": "a1ae5eb0-75ee-4969-de48-a94fcaf501b3",
        "colab": {
          "base_uri": "https://localhost:8080/"
        }
      },
      "outputs": [
        {
          "output_type": "execute_result",
          "data": {
            "text/plain": [
              "[(735.0,)]"
            ]
          },
          "metadata": {},
          "execution_count": 29
        }
      ],
      "source": [
        "cursor.execute('''\n",
        "select max(sat_records.math_avg)\n",
        "from high_schools\n",
        "join sat_records on high_schools.dbn = sat_records.dbn\n",
        "where high_schools.total_students > 1000\n",
        "limit 1\n",
        "''')\n",
        "cursor.fetchall()\n",
        "\n",
        "# [(735.0,)]"
      ]
    },
    {
      "cell_type": "markdown",
      "metadata": {
        "id": "L8iYYbxRhUFk"
      },
      "source": [
        "* What is the average number of test takers in each boro?"
      ]
    },
    {
      "cell_type": "code",
      "execution_count": 30,
      "metadata": {
        "id": "ViIaElVUhUFl",
        "outputId": "4b4a9f87-0c53-487c-a3a2-ba64bdb3aae9",
        "colab": {
          "base_uri": "https://localhost:8080/"
        }
      },
      "outputs": [
        {
          "output_type": "execute_result",
          "data": {
            "text/plain": [
              "[('K', 126.33673469387755),\n",
              " ('M', 110.34177215189874),\n",
              " ('Q', 199.51666666666668),\n",
              " ('R', 300.5),\n",
              " ('X', 80.3875)]"
            ]
          },
          "metadata": {},
          "execution_count": 30
        }
      ],
      "source": [
        "cursor.execute('''\n",
        "select high_schools.boro, avg(num_test_takers)\n",
        "from high_schools\n",
        "join sat_records on high_schools.dbn = sat_records.dbn\n",
        "group by high_schools.boro\n",
        "''')\n",
        "cursor.fetchall()\n",
        "\n",
        "# [('K', 126.33673469387755),\n",
        "#  ('M', 110.34177215189874),\n",
        "#  ('Q', 199.51666666666668),\n",
        "#  ('R', 300.5),\n",
        "#  ('X', 80.3875)]"
      ]
    },
    {
      "cell_type": "markdown",
      "metadata": {
        "id": "arIPLvjYhUFl"
      },
      "source": [
        "* What is the attendance rate of schools with math_avg greater than 500? Order your results by the attendance rate (descending) limit to the first five results"
      ]
    },
    {
      "cell_type": "code",
      "execution_count": 35,
      "metadata": {
        "id": "k5z6bHrNhUFl",
        "outputId": "c322bb02-d093-4269-9639-22ea6a3272cc",
        "colab": {
          "base_uri": "https://localhost:8080/"
        }
      },
      "outputs": [
        {
          "output_type": "execute_result",
          "data": {
            "text/plain": [
              "[(0.98,), (0.97,), (0.97,), (0.97,), (0.97,)]"
            ]
          },
          "metadata": {},
          "execution_count": 35
        }
      ],
      "source": [
        "cursor.execute('''\n",
        "select high_schools.attendance_rate\n",
        "from high_schools join sat_records\n",
        "on high_schools.dbn = sat_records.dbn\n",
        "where sat_records.math_avg > 500\n",
        "order by attendance_rate desc\n",
        "limit 5\n",
        "''')\n",
        "cursor.fetchall()\n",
        "\n",
        "\n",
        "# [(0.98,), (0.97,), (0.97,), (0.97,), (0.97,)]\n"
      ]
    },
    {
      "cell_type": "markdown",
      "metadata": {
        "id": "OF8_KQGlhUFm"
      },
      "source": [
        "* What is the graduation rate of schools with a math_avg less than 500? Order your results by the graduation rate (ascending) limit to ten results"
      ]
    },
    {
      "cell_type": "code",
      "execution_count": 36,
      "metadata": {
        "id": "Z9p8yViPhUFm",
        "outputId": "c16f765c-0109-4409-abc5-08ab1dfcacd1",
        "colab": {
          "base_uri": "https://localhost:8080/"
        }
      },
      "outputs": [
        {
          "output_type": "execute_result",
          "data": {
            "text/plain": [
              "[(None,),\n",
              " (None,),\n",
              " (None,),\n",
              " (None,),\n",
              " (0.39,),\n",
              " (0.46,),\n",
              " (0.47,),\n",
              " (0.49,),\n",
              " (0.5,),\n",
              " (0.5,)]"
            ]
          },
          "metadata": {},
          "execution_count": 36
        }
      ],
      "source": [
        "cursor.execute('''\n",
        "select high_schools.graduation_rate\n",
        "from high_schools join sat_records\n",
        "on high_schools.dbn = sat_records.dbn\n",
        "where sat_records.math_avg < 500\n",
        "order by graduation_rate\n",
        "limit 10\n",
        "''')\n",
        "cursor.fetchall()\n",
        "\n",
        "# [(None,),\n",
        "#  (None,),\n",
        "#  (None,),\n",
        "#  (None,),\n",
        "#  (0.39,),\n",
        "#  (0.46,),\n",
        "#  (0.47,),\n",
        "#  (0.49,),\n",
        "#  (0.5,),\n",
        "#  (0.5,)]"
      ]
    },
    {
      "cell_type": "markdown",
      "metadata": {
        "id": "ogkggH9rhUFn"
      },
      "source": [
        "* For schools with a math avg greater than 500, what is the average graduation rate?"
      ]
    },
    {
      "cell_type": "code",
      "execution_count": 37,
      "metadata": {
        "id": "u59bWh8RhUFn",
        "outputId": "6e451236-3e79-4883-9ee2-26c4a23be470",
        "colab": {
          "base_uri": "https://localhost:8080/"
        }
      },
      "outputs": [
        {
          "output_type": "execute_result",
          "data": {
            "text/plain": [
              "[(0.9769999999999999,)]"
            ]
          },
          "metadata": {},
          "execution_count": 37
        }
      ],
      "source": [
        "cursor.execute('''\n",
        "select avg(high_schools.graduation_rate)\n",
        "from high_schools join sat_records\n",
        "on high_schools.dbn = sat_records.dbn\n",
        "where sat_records.math_avg > 500\n",
        "''')\n",
        "cursor.fetchall()\n",
        "# [(0.9769999999999999,)]"
      ]
    },
    {
      "cell_type": "markdown",
      "metadata": {
        "id": "BTGfWAGwhUFn"
      },
      "source": [
        "* What is the total number of test takers in each boro?"
      ]
    },
    {
      "cell_type": "code",
      "execution_count": 39,
      "metadata": {
        "id": "ZoQraVwLhUFn",
        "outputId": "9f944d26-dcc5-4897-bf06-f90a5c895237",
        "colab": {
          "base_uri": "https://localhost:8080/"
        }
      },
      "outputs": [
        {
          "output_type": "execute_result",
          "data": {
            "text/plain": [
              "[('K', 12381.0), ('M', 8717.0), ('Q', 11971.0), ('R', 3005.0), ('X', 6431.0)]"
            ]
          },
          "metadata": {},
          "execution_count": 39
        }
      ],
      "source": [
        "cursor.execute('''\n",
        "select high_schools.boro, sum(sat_records.num_test_takers) from \n",
        "high_schools join sat_records\n",
        "on high_schools.dbn = sat_records.dbn\n",
        "group by high_schools.boro\n",
        "''')\n",
        "cursor.fetchall()\n",
        "\n",
        "# [('K', 12381.0), ('M', 8717.0), ('Q', 11971.0), ('R', 3005.0), ('X', 6431.0)]"
      ]
    },
    {
      "cell_type": "markdown",
      "metadata": {
        "id": "8xtSkqPRhUFp"
      },
      "source": [
        "* What is the average combined reading and math scores for each boro?"
      ]
    },
    {
      "cell_type": "code",
      "execution_count": 48,
      "metadata": {
        "id": "TptMSh1_hUFp",
        "outputId": "6c8ad058-0057-460b-d085-3e753ed9772e",
        "colab": {
          "base_uri": "https://localhost:8080/"
        }
      },
      "outputs": [
        {
          "output_type": "execute_result",
          "data": {
            "text/plain": [
              "[('K', 795.2857142857142),\n",
              " ('M', 869.5822784810126),\n",
              " ('Q', 874.5666666666666),\n",
              " ('R', 930.0),\n",
              " ('X', 778.2375)]"
            ]
          },
          "metadata": {},
          "execution_count": 48
        }
      ],
      "source": [
        "cursor.execute('''\n",
        "select high_schools.boro, avg(reading_avg) + avg(math_avg) from \n",
        "high_schools join sat_records\n",
        "on high_schools.dbn = sat_records.dbn\n",
        "group by high_schools.boro\n",
        "''')\n",
        "cursor.fetchall()\n",
        "\n",
        "# [('K', 795.2857142857143),\n",
        "#  ('M', 869.5822784810126),\n",
        "#  ('Q', 874.5666666666667),\n",
        "#  ('R', 930.0),\n",
        "#  ('X', 778.2375)]"
      ]
    },
    {
      "cell_type": "markdown",
      "metadata": {
        "id": "5VIwDuUlhUFr"
      },
      "source": [
        "* Find the top five schools that have the largest differences between num_test_takers and total_students"
      ]
    },
    {
      "cell_type": "code",
      "execution_count": 53,
      "metadata": {
        "id": "trUpTMO1hUFs",
        "outputId": "be47b42c-22e4-466b-f324-cac3e0fdc466",
        "colab": {
          "base_uri": "https://localhost:8080/"
        }
      },
      "outputs": [
        {
          "output_type": "execute_result",
          "data": {
            "text/plain": [
              "[('Brooklyn Technical High School', 4561.0),\n",
              " ('Fort Hamilton High School', 3888.0),\n",
              " ('Francis Lewis High School', 3623.0),\n",
              " ('Midwood High School', 3234.0),\n",
              " ('James Madison High School', 3139.0)]"
            ]
          },
          "metadata": {},
          "execution_count": 53
        }
      ],
      "source": [
        "cursor.execute('''\n",
        "select school_name, total_students - num_test_takers as temp\n",
        "from high_schools join sat_records\n",
        "on high_schools.dbn = sat_records.dbn\n",
        "order by temp desc\n",
        "limit 5\n",
        "''')\n",
        "cursor.fetchall()\n",
        "# [('Brooklyn Technical High School', 4561.0),\n",
        "#  ('Fort Hamilton High School', 3888.0),\n",
        "#  ('Francis Lewis High School', 3623.0),\n",
        "#  ('Midwood High School', 3234.0),\n",
        "#  ('James Madison High School', 3139.0)]"
      ]
    },
    {
      "cell_type": "markdown",
      "metadata": {
        "id": "ItKsXSjPhUFs"
      },
      "source": [
        "* What is the difference between total students and number of test takers for each boro? Order your answer in ascending order "
      ]
    },
    {
      "cell_type": "code",
      "execution_count": 59,
      "metadata": {
        "id": "1QZryvibhUFs",
        "outputId": "dc9a4129-66f4-4a1b-9c0a-e930688ce2fc",
        "colab": {
          "base_uri": "https://localhost:8080/"
        }
      },
      "outputs": [
        {
          "output_type": "execute_result",
          "data": {
            "text/plain": [
              "[('R', 15627.0),\n",
              " ('X', 39112.0),\n",
              " ('M', 45460.0),\n",
              " ('Q', 61834.0),\n",
              " ('K', 64609.0)]"
            ]
          },
          "metadata": {},
          "execution_count": 59
        }
      ],
      "source": [
        "cursor.execute('''\n",
        "select boro, sum(total_students) - sum(num_test_takers) as temp\n",
        "from high_schools join sat_records\n",
        "on high_schools.dbn = sat_records.dbn\n",
        "group by boro\n",
        "order by temp\n",
        "''')\n",
        "cursor.fetchall()\n",
        "\n",
        "# [('R', 15627.0),\n",
        "#  ('X', 35972.0),\n",
        "#  ('M', 41118.0),\n",
        "#  ('Q', 58712.0),\n",
        "#  ('K', 61192.0)]"
      ]
    },
    {
      "cell_type": "markdown",
      "metadata": {
        "id": "UmrGFLo3hUFu"
      },
      "source": [
        "### Conclusion\n",
        "This lab presented us with a database in which records from one table \"belong to\" records from another table. Specifically, we saw that the data in the `sat_records` table belonged to the schools in the `high_schools` table. We used JOIN clauses to combine the data in both tables to find solutions to questions that required information in both tables. "
      ]
    },
    {
      "cell_type": "markdown",
      "metadata": {
        "id": "Q6dZcnD5hUFv"
      },
      "source": [
        "### Resources\n",
        "\n",
        "[School District Breakdown](https://data.cityofnewyork.us/Education/School-District-Breakdowns/g3vh-kbnw)"
      ]
    },
    {
      "cell_type": "markdown",
      "metadata": {
        "id": "dyE4eT2OhUFv"
      },
      "source": [
        "[SAT Results](https://data.cityofnewyork.us/Education/2012-SAT-Results/f9bf-2cp4)"
      ]
    }
  ],
  "metadata": {
    "kernelspec": {
      "display_name": "Python 3 (ipykernel)",
      "language": "python",
      "name": "python3"
    },
    "language_info": {
      "codemirror_mode": {
        "name": "ipython",
        "version": 3
      },
      "file_extension": ".py",
      "mimetype": "text/x-python",
      "name": "python",
      "nbconvert_exporter": "python",
      "pygments_lexer": "ipython3",
      "version": "3.10.6"
    },
    "colab": {
      "provenance": [],
      "include_colab_link": true
    }
  },
  "nbformat": 4,
  "nbformat_minor": 0
}