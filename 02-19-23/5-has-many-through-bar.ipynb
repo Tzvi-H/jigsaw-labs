{
  "cells": [
    {
      "cell_type": "markdown",
      "metadata": {
        "id": "view-in-github",
        "colab_type": "text"
      },
      "source": [
        "<a href=\"https://colab.research.google.com/github/Tzvi-H/jigsaw-labs/blob/main/02-19-23/5-has-many-through-bar.ipynb\" target=\"_parent\"><img src=\"https://colab.research.google.com/assets/colab-badge.svg\" alt=\"Open In Colab\"/></a>"
      ]
    },
    {
      "cell_type": "markdown",
      "metadata": {
        "id": "zVanQ7PBbfj8"
      },
      "source": [
        "# Moe's Bar Lab"
      ]
    },
    {
      "cell_type": "markdown",
      "metadata": {
        "id": "yKH-PElLbflS"
      },
      "source": [
        "### Introduction"
      ]
    },
    {
      "cell_type": "markdown",
      "metadata": {
        "id": "Oi2wTeCmbfle"
      },
      "source": [
        "In this lesson, we'll apply our knowledge of querying tables with has many through to ask questions of customers and bartenders at a bar."
      ]
    },
    {
      "cell_type": "markdown",
      "metadata": {
        "id": "uKzyVeNTbflh"
      },
      "source": [
        "### Loading Our Data"
      ]
    },
    {
      "cell_type": "markdown",
      "metadata": {
        "id": "s7UYKRkmbflj"
      },
      "source": [
        "Then we can connect to our database with the following."
      ]
    },
    {
      "cell_type": "code",
      "execution_count": 1,
      "metadata": {
        "id": "fBDhoWEjbflu"
      },
      "outputs": [],
      "source": [
        "import sqlite3\n",
        "conn = sqlite3.connect('./moes_bar.db')\n",
        "cursor = conn.cursor()"
      ]
    },
    {
      "cell_type": "markdown",
      "metadata": {
        "id": "Dzjad-nubfly"
      },
      "source": [
        "Next we load our data."
      ]
    },
    {
      "cell_type": "code",
      "execution_count": 2,
      "metadata": {
        "id": "fa6gHTm_bfl0"
      },
      "outputs": [],
      "source": [
        "import pandas as pd\n",
        "root_url = \"https://raw.githubusercontent.com/jigsawlabs-student/curriculum-images/main/has-many-through-bar/data/\"\n",
        "names = ['bartenders', 'customers', 'drinks', 'orders', 'ingredients', 'ingredients_drinks']\n",
        "loaded_dfs = [pd.read_csv(f'{root_url}{name}.csv') for name in names]"
      ]
    },
    {
      "cell_type": "code",
      "execution_count": 3,
      "metadata": {
        "id": "O2QTm5Orbfl5"
      },
      "outputs": [],
      "source": [
        "for index, name in enumerate(names):\n",
        "    loaded_dfs[index].to_sql(f'{name}', conn, index = False)"
      ]
    },
    {
      "cell_type": "code",
      "execution_count": 4,
      "metadata": {
        "id": "237cV1xibfl7",
        "outputId": "d1f94414-3cdb-4a33-8ae7-9f262f70912b",
        "colab": {
          "base_uri": "https://localhost:8080/"
        }
      },
      "outputs": [
        {
          "output_type": "execute_result",
          "data": {
            "text/plain": [
              "[('bartenders',),\n",
              " ('customers',),\n",
              " ('drinks',),\n",
              " ('orders',),\n",
              " ('ingredients',),\n",
              " ('ingredients_drinks',)]"
            ]
          },
          "metadata": {},
          "execution_count": 4
        }
      ],
      "source": [
        "cursor.execute(\"SELECT name FROM sqlite_master WHERE type='table';\")\n",
        "cursor.fetchall()"
      ]
    },
    {
      "cell_type": "markdown",
      "metadata": {
        "id": "KMyqqqrrbfmu"
      },
      "source": [
        "### Exploring our Database"
      ]
    },
    {
      "cell_type": "markdown",
      "metadata": {
        "id": "pYuSRDERbfmu"
      },
      "source": [
        "Now we list of all of the tables with the following."
      ]
    },
    {
      "cell_type": "code",
      "execution_count": 5,
      "metadata": {
        "id": "Db9SCri7bfmv",
        "outputId": "212f5d61-60d8-4a2d-d5a6-f4de1b909e51",
        "colab": {
          "base_uri": "https://localhost:8080/"
        }
      },
      "outputs": [
        {
          "output_type": "execute_result",
          "data": {
            "text/plain": [
              "[('bartenders',),\n",
              " ('customers',),\n",
              " ('drinks',),\n",
              " ('orders',),\n",
              " ('ingredients',),\n",
              " ('ingredients_drinks',)]"
            ]
          },
          "metadata": {},
          "execution_count": 5
        }
      ],
      "source": [
        "cursor.execute(\"SELECT name FROM sqlite_master WHERE type='table';\")\n",
        "cursor.fetchall()"
      ]
    },
    {
      "cell_type": "markdown",
      "metadata": {
        "id": "Tmd57W-9bfmv"
      },
      "source": [
        "And then we can see the details of a particular table with the following."
      ]
    },
    {
      "cell_type": "code",
      "execution_count": 6,
      "metadata": {
        "id": "Gmku1gIvbfmv",
        "outputId": "e20b1e6f-0eda-4adb-c577-adddbea07cda",
        "colab": {
          "base_uri": "https://localhost:8080/"
        }
      },
      "outputs": [
        {
          "output_type": "execute_result",
          "data": {
            "text/plain": [
              "[(0, 'id', 'INTEGER', 0, None, 0),\n",
              " (1, 'name', 'TEXT', 0, None, 0),\n",
              " (2, 'hometown', 'TEXT', 0, None, 0),\n",
              " (3, 'birthyear', 'INTEGER', 0, None, 0)]"
            ]
          },
          "metadata": {},
          "execution_count": 6
        }
      ],
      "source": [
        "cursor.execute(\"pragma table_info(customers)\")\n",
        "cursor.fetchall()"
      ]
    },
    {
      "cell_type": "markdown",
      "metadata": {
        "id": "DQBKaiMAbfmw"
      },
      "source": [
        "### Making our queries"
      ]
    },
    {
      "cell_type": "markdown",
      "metadata": {
        "id": "CMKuOPT6bfmw"
      },
      "source": [
        "* Find the name of the youngest customer "
      ]
    },
    {
      "cell_type": "code",
      "execution_count": 7,
      "metadata": {
        "id": "yBboxhCAbfmw",
        "outputId": "22e41838-0273-4177-e9f3-dacb049e2c71",
        "colab": {
          "base_uri": "https://localhost:8080/"
        }
      },
      "outputs": [
        {
          "output_type": "execute_result",
          "data": {
            "text/plain": [
              "[('lisa simpson', 2006)]"
            ]
          },
          "metadata": {},
          "execution_count": 7
        }
      ],
      "source": [
        "youngest_customer = \"\"\"\n",
        "select name , birthyear\n",
        "from customers\n",
        "order by birthyear\n",
        "limit 1\n",
        "\"\"\"\n",
        "\n",
        "cursor.execute(youngest_customer)\n",
        "cursor.fetchall()\n",
        "# # [('lisa simpson', 2006)]"
      ]
    },
    {
      "cell_type": "markdown",
      "metadata": {
        "id": "7qcPDXUMbfm1"
      },
      "source": [
        "* Order the drinks from most to least expensive"
      ]
    },
    {
      "cell_type": "code",
      "execution_count": 8,
      "metadata": {
        "id": "PXswa55jbfm2",
        "outputId": "29f1f68a-30f9-4065-a5ca-383114ea2164",
        "colab": {
          "base_uri": "https://localhost:8080/"
        }
      },
      "outputs": [
        {
          "output_type": "execute_result",
          "data": {
            "text/plain": [
              "[('ice cream float', 8),\n",
              " ('duff beer', 7),\n",
              " ('gin and tonic', 7),\n",
              " ('rootbeer', 6),\n",
              " ('milkshake', 5),\n",
              " ('egg cream soda', 3)]"
            ]
          },
          "metadata": {},
          "execution_count": 8
        }
      ],
      "source": [
        "cheapest_drinks = \"\"\"\n",
        "select name, price\n",
        "from drinks\n",
        "order by price desc\n",
        "\"\"\"\n",
        "\n",
        "cursor.execute(cheapest_drinks)\n",
        "cursor.fetchall()\n",
        "# [('ice cream float', 8),\n",
        "#  ('duff beer', 7),\n",
        "#  ('gin and tonic', 7),\n",
        "#  ('rootbeer', 6),\n",
        "#  ('milkshake', 5),\n",
        "#  ('egg cream soda', 3)]"
      ]
    },
    {
      "cell_type": "markdown",
      "metadata": {
        "id": "mhHETCZLbfm2"
      },
      "source": [
        "* Find the most expensive drink that bart simpson ordered"
      ]
    },
    {
      "cell_type": "code",
      "execution_count": 17,
      "metadata": {
        "id": "UrD48g31bfm-",
        "outputId": "89e0bf39-e3f8-40a1-bb5c-c5bf89af3306",
        "colab": {
          "base_uri": "https://localhost:8080/"
        }
      },
      "outputs": [
        {
          "output_type": "execute_result",
          "data": {
            "text/plain": [
              "[('milkshake', 5)]"
            ]
          },
          "metadata": {},
          "execution_count": 17
        }
      ],
      "source": [
        "barts_orders = \"\"\"\n",
        "select drinks.name, drinks.price\n",
        "from orders\n",
        "join customers on orders.customer_id = customers.id\n",
        "join drinks on orders.drink_id = drinks.id\n",
        "where customers.name = 'bart simpson'\n",
        "order by drinks.price desc\n",
        "limit 1\n",
        "\"\"\"\n",
        "\n",
        "cursor.execute(barts_orders)\n",
        "cursor.fetchall()\n",
        "# [('milkshake', 5)]"
      ]
    },
    {
      "cell_type": "markdown",
      "metadata": {
        "id": "GAx9TdeXbfnC"
      },
      "source": [
        "* Find a list of all of the customers of moe"
      ]
    },
    {
      "cell_type": "code",
      "execution_count": 20,
      "metadata": {
        "id": "XR_s0sJ5bfnO",
        "outputId": "e47a9d78-12c5-4ef0-9984-772863f020ce",
        "colab": {
          "base_uri": "https://localhost:8080/"
        }
      },
      "outputs": [
        {
          "output_type": "execute_result",
          "data": {
            "text/plain": [
              "[('bart simpson',), ('maggie simpson',)]"
            ]
          },
          "metadata": {},
          "execution_count": 20
        }
      ],
      "source": [
        "moes_customers = \"\"\"\n",
        "select distinct customers.name\n",
        "from orders\n",
        "join customers on orders.customer_id = customers.id\n",
        "join bartenders on orders.bartender_id = bartenders.id\n",
        "where bartenders.name = 'moe'\n",
        "\"\"\"\n",
        "\n",
        "cursor.execute(moes_customers)\n",
        "cursor.fetchall()\n",
        "# [('bart simpson',), ('maggie simpson',)]"
      ]
    }
  ],
  "metadata": {
    "kernelspec": {
      "display_name": "Python 3 (ipykernel)",
      "language": "python",
      "name": "python3"
    },
    "language_info": {
      "codemirror_mode": {
        "name": "ipython",
        "version": 3
      },
      "file_extension": ".py",
      "mimetype": "text/x-python",
      "name": "python",
      "nbconvert_exporter": "python",
      "pygments_lexer": "ipython3",
      "version": "3.10.6"
    },
    "colab": {
      "provenance": [],
      "include_colab_link": true
    }
  },
  "nbformat": 4,
  "nbformat_minor": 0
}