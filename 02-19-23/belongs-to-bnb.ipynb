{
  "cells": [
    {
      "cell_type": "markdown",
      "metadata": {
        "id": "view-in-github",
        "colab_type": "text"
      },
      "source": [
        "<a href=\"https://colab.research.google.com/github/Tzvi-H/jigsaw-labs/blob/main/02-19-23/belongs-to-bnb.ipynb\" target=\"_parent\"><img src=\"https://colab.research.google.com/assets/colab-badge.svg\" alt=\"Open In Colab\"/></a>"
      ]
    },
    {
      "cell_type": "markdown",
      "metadata": {
        "id": "2EDhD-l5sRr-"
      },
      "source": [
        "# Belongs to Airbnb Lab"
      ]
    },
    {
      "cell_type": "markdown",
      "metadata": {
        "jp-MarkdownHeadingCollapsed": true,
        "tags": [],
        "id": "Mm_Hs4PrsRsG"
      },
      "source": [
        "### Introduction\n",
        "In this lab we will continue to explore the relationships between data in different tables of a database. The Airbnb database for this lab contains four tables, `hosts`, `listings`, `locations`, and `neighborhoods`. In order to understand and analyze the data, we need to first understand the relationships between the tables. Relationships include \"Has One\" and \"Has Many\". For example, the `listings` table has a column \"host_id\" which HAS ONE record in hosts table that it corresponds to (a listing will only have one host). The `locations` table has an id column which HAS MANY corresponding records in the `listings` table (a location will have more than one listing). "
      ]
    },
    {
      "cell_type": "markdown",
      "metadata": {
        "id": "eFxoyvTEsRsx"
      },
      "source": [
        "Let's begin by connecting to the database and reviewing the schema of the tables."
      ]
    },
    {
      "cell_type": "markdown",
      "metadata": {
        "id": "Vg_hdVnosRtv"
      },
      "source": [
        "### Loading Data"
      ]
    },
    {
      "cell_type": "code",
      "execution_count": 4,
      "metadata": {
        "id": "39PRMA-bsRuD"
      },
      "outputs": [],
      "source": [
        "import pandas as pd\n",
        "neighborhoods_url = \"https://raw.githubusercontent.com/sql-fundamentals-jigsaw/mod-1-sql-curriculum/master/2-sql-relations/3-belongs-to-bnb/data/neighborhoods.csv\"\n",
        "hosts_url = \"https://raw.githubusercontent.com/sql-fundamentals-jigsaw/mod-1-sql-curriculum/master/2-sql-relations/3-belongs-to-bnb/data/hosts.csv\"\n",
        "locations_url = \"https://raw.githubusercontent.com/sql-fundamentals-jigsaw/mod-1-sql-curriculum/master/2-sql-relations/3-belongs-to-bnb/data/locations.csv\"\n",
        "listings_url = \"https://raw.githubusercontent.com/sql-fundamentals-jigsaw/mod-1-sql-curriculum/master/2-sql-relations/3-belongs-to-bnb/data/listings.csv\"\n",
        "\n",
        "\n",
        "hosts_df = pd.read_csv(hosts_url)\n",
        "neighborhoods_df = pd.read_csv(neighborhoods_url)\n",
        "\n",
        "locations_df = pd.read_csv(locations_url)\n",
        "listings_df = pd.read_csv(listings_url)"
      ]
    },
    {
      "cell_type": "code",
      "execution_count": 2,
      "metadata": {
        "id": "MvnQjQfGsRuM"
      },
      "outputs": [],
      "source": [
        "import sqlite3\n",
        "conn = sqlite3.connect('listings.db')"
      ]
    },
    {
      "cell_type": "code",
      "source": [
        "cursor = conn.cursor()"
      ],
      "metadata": {
        "id": "MZLbhvlNtPKE"
      },
      "execution_count": 10,
      "outputs": []
    },
    {
      "cell_type": "code",
      "execution_count": 8,
      "metadata": {
        "id": "osTMmjAMsRul"
      },
      "outputs": [],
      "source": [
        "# listings_df = pd.read_sql('select * from listings', conn)\n",
        "# pd.read_sql('select * from listings', conn)"
      ]
    },
    {
      "cell_type": "code",
      "execution_count": 6,
      "metadata": {
        "id": "-yLrdVjVsRvT"
      },
      "outputs": [],
      "source": [
        "hosts_df.to_sql('hosts',conn, index = False)\n",
        "neighborhoods_df.to_sql('neighborhoods',conn, index = False)\n",
        "locations_df.to_sql('locations',conn, index = False)\n",
        "listings_df.to_sql('listings', conn, index = False)"
      ]
    },
    {
      "cell_type": "markdown",
      "metadata": {
        "id": "mrIRdTMZsRvV"
      },
      "source": [
        "### Exploring Data"
      ]
    },
    {
      "cell_type": "code",
      "execution_count": 11,
      "metadata": {
        "colab": {
          "base_uri": "https://localhost:8080/"
        },
        "id": "bcpR1h94sRvX",
        "outputId": "16784d32-6760-4d49-e6b1-8d51f4e54f5c"
      },
      "outputs": [
        {
          "output_type": "execute_result",
          "data": {
            "text/plain": [
              "[('hosts',), ('neighborhoods',), ('locations',), ('listings',)]"
            ]
          },
          "metadata": {},
          "execution_count": 11
        }
      ],
      "source": [
        "cursor.execute('SELECT name from sqlite_master where type= \"table\"')\n",
        "cursor.fetchall()"
      ]
    },
    {
      "cell_type": "code",
      "execution_count": 12,
      "metadata": {
        "colab": {
          "base_uri": "https://localhost:8080/"
        },
        "id": "aVlwcGnBsRvo",
        "outputId": "0f262a01-dc45-42c5-900a-9b59dd9be2ab"
      },
      "outputs": [
        {
          "output_type": "execute_result",
          "data": {
            "text/plain": [
              "[(0, 'id', 'INTEGER', 0, None, 0), (1, 'host_name', 'TEXT', 0, None, 0)]"
            ]
          },
          "metadata": {},
          "execution_count": 12
        }
      ],
      "source": [
        "cursor.execute('PRAGMA table_info(hosts)')\n",
        "cursor.fetchall()"
      ]
    },
    {
      "cell_type": "code",
      "execution_count": 13,
      "metadata": {
        "colab": {
          "base_uri": "https://localhost:8080/"
        },
        "id": "zQtGviKqsRvu",
        "outputId": "0a9cf19a-e9d6-4a54-ec59-65c738d5d06a"
      },
      "outputs": [
        {
          "output_type": "execute_result",
          "data": {
            "text/plain": [
              "[(0, 'id', 'INTEGER', 0, None, 0),\n",
              " (1, 'name', 'TEXT', 0, None, 0),\n",
              " (2, 'neighbourhood_group', 'TEXT', 0, None, 0)]"
            ]
          },
          "metadata": {},
          "execution_count": 13
        }
      ],
      "source": [
        "cursor.execute('PRAGMA table_info(neighborhoods)')\n",
        "cursor.fetchall()"
      ]
    },
    {
      "cell_type": "code",
      "execution_count": 14,
      "metadata": {
        "colab": {
          "base_uri": "https://localhost:8080/"
        },
        "id": "BZQ1UOK-sRv3",
        "outputId": "bd866a36-e311-4ae9-ff5d-22dfdf1c3f77"
      },
      "outputs": [
        {
          "output_type": "execute_result",
          "data": {
            "text/plain": [
              "[(0, 'id', 'INTEGER', 0, None, 0),\n",
              " (1, 'longitude', 'REAL', 0, None, 0),\n",
              " (2, 'latitude', 'REAL', 0, None, 0),\n",
              " (3, 'neighborhood_id', 'INTEGER', 0, None, 0)]"
            ]
          },
          "metadata": {},
          "execution_count": 14
        }
      ],
      "source": [
        "cursor.execute('PRAGMA table_info(locations)')\n",
        "cursor.fetchall()"
      ]
    },
    {
      "cell_type": "code",
      "execution_count": 15,
      "metadata": {
        "colab": {
          "base_uri": "https://localhost:8080/"
        },
        "id": "8FjgWLrwsRv3",
        "outputId": "f186898f-e38e-49e0-c8e6-5755a6ad2e9b"
      },
      "outputs": [
        {
          "output_type": "execute_result",
          "data": {
            "text/plain": [
              "[(0, 'id', 'INTEGER', 0, None, 0),\n",
              " (1, 'name', 'TEXT', 0, None, 0),\n",
              " (2, 'host_id', 'INTEGER', 0, None, 0),\n",
              " (3, 'location_id', 'INTEGER', 0, None, 0),\n",
              " (4, 'number_of_reviews', 'INTEGER', 0, None, 0),\n",
              " (5, 'occupancy', 'INTEGER', 0, None, 0),\n",
              " (6, 'price', 'INTEGER', 0, None, 0),\n",
              " (7, 'room_type', 'TEXT', 0, None, 0),\n",
              " (8, 'host_listings_count', 'INTEGER', 0, None, 0)]"
            ]
          },
          "metadata": {},
          "execution_count": 15
        }
      ],
      "source": [
        "cursor.execute('PRAGMA table_info(listings)')\n",
        "cursor.fetchall()"
      ]
    },
    {
      "cell_type": "markdown",
      "metadata": {
        "id": "tRpNeo1ZsRwC"
      },
      "source": [
        "We'll start off with some basic one table queries:"
      ]
    },
    {
      "cell_type": "markdown",
      "metadata": {
        "id": "JqR79iN2sRwD"
      },
      "source": [
        "* Which listing name has the highest price?"
      ]
    },
    {
      "cell_type": "code",
      "execution_count": 16,
      "metadata": {
        "colab": {
          "base_uri": "https://localhost:8080/"
        },
        "id": "JBpqwwA0sRwD",
        "outputId": "1df095b0-3fc7-4375-a5b2-c60dd716caba"
      },
      "outputs": [
        {
          "output_type": "execute_result",
          "data": {
            "text/plain": [
              "[('Furnished room in Astoria apartment',)]"
            ]
          },
          "metadata": {},
          "execution_count": 16
        }
      ],
      "source": [
        "cursor.execute('''\n",
        "select name\n",
        "from listings\n",
        "order by price desc\n",
        "limit 1\n",
        "''')\n",
        "cursor.fetchall()\n",
        "\n",
        "# [('Furnished room in Astoria apartment',)]"
      ]
    },
    {
      "cell_type": "markdown",
      "metadata": {
        "id": "ZB7dflEMsRwE"
      },
      "source": [
        "* What is the id of the location with the lowest longitude?"
      ]
    },
    {
      "cell_type": "code",
      "execution_count": 18,
      "metadata": {
        "colab": {
          "base_uri": "https://localhost:8080/"
        },
        "id": "mnWxlTxGsRwF",
        "outputId": "dc66d832-c04d-4c0b-e13d-3517d7422e31"
      },
      "outputs": [
        {
          "output_type": "execute_result",
          "data": {
            "text/plain": [
              "[(45652,)]"
            ]
          },
          "metadata": {},
          "execution_count": 18
        }
      ],
      "source": [
        "cursor.execute('''\n",
        "select id\n",
        "from locations\n",
        "order by longitude\n",
        "limit 1\n",
        "''')\n",
        "cursor.fetchall()\n",
        "\n",
        "# [(45652,)]"
      ]
    },
    {
      "cell_type": "markdown",
      "metadata": {
        "id": "M6bxT5wPsRwN"
      },
      "source": [
        "* What is the greatest occupancy of a listing?"
      ]
    },
    {
      "cell_type": "code",
      "execution_count": 19,
      "metadata": {
        "colab": {
          "base_uri": "https://localhost:8080/"
        },
        "id": "Qpd3bJ_9sRwN",
        "outputId": "fc808861-026b-4895-fa09-ebe952513228"
      },
      "outputs": [
        {
          "output_type": "execute_result",
          "data": {
            "text/plain": [
              "[(365,)]"
            ]
          },
          "metadata": {},
          "execution_count": 19
        }
      ],
      "source": [
        "cursor.execute('''\n",
        "select max(occupancy)\n",
        "from listings\n",
        "''')\n",
        "cursor.fetchall()\n",
        "\n",
        "# [(365,)]"
      ]
    },
    {
      "cell_type": "markdown",
      "metadata": {
        "id": "wBgYXLOcsRwR"
      },
      "source": [
        "* What is the average price of a listing?"
      ]
    },
    {
      "cell_type": "code",
      "execution_count": 20,
      "metadata": {
        "colab": {
          "base_uri": "https://localhost:8080/"
        },
        "id": "zRC--ShasRwW",
        "outputId": "b90b39ba-1dfa-400b-b707-fa46259681f3"
      },
      "outputs": [
        {
          "output_type": "execute_result",
          "data": {
            "text/plain": [
              "[(152.7206871868289,)]"
            ]
          },
          "metadata": {},
          "execution_count": 20
        }
      ],
      "source": [
        "cursor.execute('''\n",
        "select avg(price)\n",
        "from listings\n",
        "''')\n",
        "cursor.fetchall()\n",
        "\n",
        "# [(152.7206871868289,)]"
      ]
    },
    {
      "cell_type": "markdown",
      "metadata": {
        "id": "0tw2TYmYsRwm"
      },
      "source": [
        "* What is the count of number of hosts?"
      ]
    },
    {
      "cell_type": "code",
      "execution_count": 21,
      "metadata": {
        "colab": {
          "base_uri": "https://localhost:8080/"
        },
        "id": "VOGsidh2sRwn",
        "outputId": "a63d8d45-e779-4199-a333-932a20ca3a97"
      },
      "outputs": [
        {
          "output_type": "execute_result",
          "data": {
            "text/plain": [
              "[(37457,)]"
            ]
          },
          "metadata": {},
          "execution_count": 21
        }
      ],
      "source": [
        "cursor.execute('''\n",
        "select count(*)\n",
        "from hosts\n",
        "''')\n",
        "cursor.fetchall()\n",
        "# [(37457,)]"
      ]
    },
    {
      "cell_type": "markdown",
      "metadata": {
        "id": "38lR_C0FsRwn"
      },
      "source": [
        "### Relationships\n",
        "To help us better understand the relationships, create queries below that JOIN the tables. "
      ]
    },
    {
      "cell_type": "markdown",
      "metadata": {
        "id": "yOCIYjVnsRwo"
      },
      "source": [
        "### JOINs"
      ]
    },
    {
      "cell_type": "markdown",
      "metadata": {
        "id": "7sVo61eRsRwo"
      },
      "source": [
        "For the following queries, use the relationships between the tables to find the solutions"
      ]
    },
    {
      "cell_type": "markdown",
      "metadata": {
        "id": "V0d_27txsRwr"
      },
      "source": [
        "* What is the longitude and latitude of the listing of the highest price?"
      ]
    },
    {
      "cell_type": "code",
      "execution_count": 23,
      "metadata": {
        "colab": {
          "base_uri": "https://localhost:8080/"
        },
        "id": "o9SbYGRasRwr",
        "outputId": "f6502837-0563-490b-917d-5113e365ebdb"
      },
      "outputs": [
        {
          "output_type": "execute_result",
          "data": {
            "text/plain": [
              "[(-73.91651, 40.7681)]"
            ]
          },
          "metadata": {},
          "execution_count": 23
        }
      ],
      "source": [
        "cursor.execute('''\n",
        "select longitude, latitude\n",
        "from listings join locations\n",
        "on listings.location_id = locations.id\n",
        "order by price desc\n",
        "limit 1\n",
        "''')\n",
        "cursor.fetchall()\n",
        "\n",
        "# [(-73.91651, 40.7681)]"
      ]
    },
    {
      "cell_type": "markdown",
      "metadata": {
        "id": "6kknlEEEsRws"
      },
      "source": [
        "* What is the neighborhood id of the listing with the lowest price?"
      ]
    },
    {
      "cell_type": "code",
      "execution_count": 25,
      "metadata": {
        "colab": {
          "base_uri": "https://localhost:8080/"
        },
        "id": "-_kngGT1sRws",
        "outputId": "5db1372a-c03d-4b66-ecb6-9257f6e471f3"
      },
      "outputs": [
        {
          "output_type": "execute_result",
          "data": {
            "text/plain": [
              "[(6,)]"
            ]
          },
          "metadata": {},
          "execution_count": 25
        }
      ],
      "source": [
        "cursor.execute('''\n",
        "select neighborhoods.id\n",
        "from listings \n",
        "join locations on listings.location_id = locations.id\n",
        "join neighborhoods on locations.neighborhood_id = neighborhoods.id\n",
        "order by price\n",
        "limit 1\n",
        "''')\n",
        "cursor.fetchall()\n",
        "# [(6,)]"
      ]
    },
    {
      "cell_type": "markdown",
      "metadata": {
        "id": "K-_zgAsfsRws"
      },
      "source": [
        "* What is the longitude and latitude of the listing of the lowest price?"
      ]
    },
    {
      "cell_type": "code",
      "execution_count": 26,
      "metadata": {
        "colab": {
          "base_uri": "https://localhost:8080/"
        },
        "id": "0nP0I9kUsRws",
        "outputId": "b147871f-61c8-4916-b1c4-c38db6476036"
      },
      "outputs": [
        {
          "output_type": "execute_result",
          "data": {
            "text/plain": [
              "[(-73.95428000000001, 40.69023)]"
            ]
          },
          "metadata": {},
          "execution_count": 26
        }
      ],
      "source": [
        "cursor.execute('''\n",
        "select longitude, latitude\n",
        "from listings join locations\n",
        "on listings.location_id = locations.id\n",
        "order by price\n",
        "limit 1\n",
        "''')\n",
        "cursor.fetchall()\n",
        "\n",
        "# [(-73.95428000000001, 40.69023)]"
      ]
    },
    {
      "cell_type": "markdown",
      "metadata": {
        "id": "t_l8XmzTsRwx"
      },
      "source": [
        "### Relations and GROUP BY"
      ]
    },
    {
      "cell_type": "markdown",
      "metadata": {
        "id": "XdAvuEy9sRwx"
      },
      "source": [
        "* What is the name of the host has the most number of reviews?"
      ]
    },
    {
      "cell_type": "code",
      "execution_count": 30,
      "metadata": {
        "colab": {
          "base_uri": "https://localhost:8080/"
        },
        "id": "0CXhcKgRsRwz",
        "outputId": "f1d3e070-2d92-4c0d-eac1-caaebb95e3bc"
      },
      "outputs": [
        {
          "output_type": "execute_result",
          "data": {
            "text/plain": [
              "[('Maya', 2273)]"
            ]
          },
          "metadata": {},
          "execution_count": 30
        }
      ],
      "source": [
        "cursor.execute('''\n",
        "select hosts.host_name, sum(number_of_reviews) as reviews_sum\n",
        "from listings join hosts\n",
        "on listings.host_id = hosts.id\n",
        "group by hosts.id\n",
        "order by reviews_sum desc\n",
        "limit 1\n",
        "''')\n",
        "cursor.fetchall()\n",
        "\n",
        "# [('Maya', 2273)]"
      ]
    },
    {
      "cell_type": "markdown",
      "metadata": {
        "id": "5akrUuNKsRw2"
      },
      "source": [
        "* What is the name of the host with the highest average listing price?"
      ]
    },
    {
      "cell_type": "code",
      "execution_count": 31,
      "metadata": {
        "colab": {
          "base_uri": "https://localhost:8080/"
        },
        "id": "EfY5Q4j7sRw3",
        "outputId": "71f4f410-3f15-4881-86b5-2c1df660043a"
      },
      "outputs": [
        {
          "output_type": "execute_result",
          "data": {
            "text/plain": [
              "[('Jelena',)]"
            ]
          },
          "metadata": {},
          "execution_count": 31
        }
      ],
      "source": [
        "cursor.execute('''\n",
        "select hosts.host_name\n",
        "from listings join hosts\n",
        "on listings.host_id = hosts.id\n",
        "group by hosts.id\n",
        "order by avg(price) desc\n",
        "limit 1\n",
        "''')\n",
        "cursor.fetchall()\n",
        "\n",
        "# [('Jelena',)]"
      ]
    },
    {
      "cell_type": "markdown",
      "metadata": {
        "id": "GdOmGfONsRw3"
      },
      "source": [
        "* What is the name of the host with the lowest average listing price?"
      ]
    },
    {
      "cell_type": "code",
      "execution_count": 32,
      "metadata": {
        "colab": {
          "base_uri": "https://localhost:8080/"
        },
        "id": "uLlr6fypsRw3",
        "outputId": "729c7d02-8291-4996-a574-3227f5b7904b"
      },
      "outputs": [
        {
          "output_type": "execute_result",
          "data": {
            "text/plain": [
              "[('Aymeric',)]"
            ]
          },
          "metadata": {},
          "execution_count": 32
        }
      ],
      "source": [
        "\n",
        "cursor.execute('''\n",
        "select hosts.host_name\n",
        "from listings join hosts\n",
        "on listings.host_id = hosts.id\n",
        "group by hosts.id\n",
        "order by avg(price)\n",
        "limit 1\n",
        "''')\n",
        "cursor.fetchall()\n",
        "# [('Aymeric',)]"
      ]
    },
    {
      "cell_type": "markdown",
      "metadata": {
        "id": "iFeXMBoksRw3"
      },
      "source": [
        "* What is the name of the neighborhood with the most number of locations"
      ]
    },
    {
      "cell_type": "code",
      "execution_count": 35,
      "metadata": {
        "colab": {
          "base_uri": "https://localhost:8080/"
        },
        "id": "oBp-V5_SsRw4",
        "outputId": "d2e802fc-c7f1-4185-dbcd-ef8c315c1d1f"
      },
      "outputs": [
        {
          "output_type": "execute_result",
          "data": {
            "text/plain": [
              "[('Williamsburg',)]"
            ]
          },
          "metadata": {},
          "execution_count": 35
        }
      ],
      "source": [
        "\n",
        "cursor.execute('''\n",
        "select neighborhoods.name\n",
        "from locations join neighborhoods\n",
        "on locations.neighborhood_id = neighborhoods.id\n",
        "group by locations.neighborhood_id\n",
        "order by count(*) desc\n",
        "limit 1\n",
        "''')\n",
        "cursor.fetchall()\n",
        "\n",
        "\n",
        "# [('Williamsburg',)]"
      ]
    },
    {
      "cell_type": "markdown",
      "metadata": {
        "id": "ViyVacUPsRw7"
      },
      "source": [
        "* What are the names of the neighborhoods with 10 locations?"
      ]
    },
    {
      "cell_type": "code",
      "execution_count": 37,
      "metadata": {
        "colab": {
          "base_uri": "https://localhost:8080/"
        },
        "id": "dZ_SCEfusRw7",
        "outputId": "43a0abfd-bea4-4002-b046-06e174587e6e"
      },
      "outputs": [
        {
          "output_type": "execute_result",
          "data": {
            "text/plain": [
              "[('North Riverdale',),\n",
              " ('Great Kills',),\n",
              " ('East Morrisania',),\n",
              " ('Melrose',),\n",
              " ('Bergen Beach',),\n",
              " ('Westchester Square',)]"
            ]
          },
          "metadata": {},
          "execution_count": 37
        }
      ],
      "source": [
        "cursor.execute('''\n",
        "select neighborhoods.name\n",
        "from locations join neighborhoods\n",
        "on locations.neighborhood_id = neighborhoods.id\n",
        "group by locations.neighborhood_id\n",
        "having count(*) = 10\n",
        "''')\n",
        "cursor.fetchall()\n",
        "# [('North Riverdale',),\n",
        "#  ('Great Kills',),\n",
        "#  ('East Morrisania',),\n",
        "#  ('Melrose',),\n",
        "#  ('Bergen Beach',),\n",
        "#  ('Westchester Square',)]"
      ]
    },
    {
      "cell_type": "markdown",
      "metadata": {
        "id": "D3WQy923sRxG"
      },
      "source": [
        "The following questions will require joins of three tables"
      ]
    },
    {
      "cell_type": "markdown",
      "metadata": {
        "id": "mMF1dUVOsRxG"
      },
      "source": [
        "* What is the average occupancy of each neighborhood (limit to the first five results)?"
      ]
    },
    {
      "cell_type": "code",
      "execution_count": 40,
      "metadata": {
        "colab": {
          "base_uri": "https://localhost:8080/"
        },
        "id": "-qFM4uvksRxH",
        "outputId": "da106a49-ebec-49ec-8f9e-9b68b1fd6f28"
      },
      "outputs": [
        {
          "output_type": "execute_result",
          "data": {
            "text/plain": [
              "[('Clinton Hill', 269.986013986014),\n",
              " ('East Harlem', 266.0268576544315),\n",
              " ('Harlem', 258.4224981188864),\n",
              " ('Kensington', 281.0514285714286),\n",
              " ('Midtown', 207.29644012944985)]"
            ]
          },
          "metadata": {},
          "execution_count": 40
        }
      ],
      "source": [
        "cursor.execute('''\n",
        "select neighborhoods.name, avg(occupancy)\n",
        "from listings\n",
        "join locations on listings.location_id = locations.id\n",
        "join neighborhoods on locations.neighborhood_id = neighborhoods.id\n",
        "where neighborhoods.name in ('Kensington', 'Midtown', 'Harlem', 'Clinton Hill', 'East Harlem')\n",
        "group by neighborhoods.name\n",
        "limit 5\n",
        "''')\n",
        "cursor.fetchall()\n",
        "\n",
        "# [('Kensington', 281.0514285714286),\n",
        "#  ('Midtown', 207.29644012944985),\n",
        "#  ('Harlem', 258.4224981188864),\n",
        "#  ('Clinton Hill', 269.986013986014),\n",
        "#  ('East Harlem', 266.0268576544315)]"
      ]
    },
    {
      "cell_type": "markdown",
      "metadata": {
        "id": "2-cPTrl0sRxH"
      },
      "source": [
        "* What is the total number of reviews for each neighborhood (limit to the first five results)?"
      ]
    },
    {
      "cell_type": "code",
      "execution_count": 41,
      "metadata": {
        "colab": {
          "base_uri": "https://localhost:8080/"
        },
        "id": "0A-JfExNsRxH",
        "outputId": "13d5c78c-8d91-4ecf-b511-a02a0c1e9b7e"
      },
      "outputs": [
        {
          "output_type": "execute_result",
          "data": {
            "text/plain": [
              "[('Clinton Hill', 14586),\n",
              " ('East Harlem', 36446),\n",
              " ('Harlem', 75962),\n",
              " ('Kensington', 2972),\n",
              " ('Midtown', 19444)]"
            ]
          },
          "metadata": {},
          "execution_count": 41
        }
      ],
      "source": [
        "cursor.execute('''\n",
        "select neighborhoods.name, sum(number_of_reviews)\n",
        "from listings\n",
        "join locations on listings.location_id = locations.id\n",
        "join neighborhoods on locations.neighborhood_id = neighborhoods.id\n",
        "where neighborhoods.name in ('Kensington', 'Midtown', 'Harlem', 'Clinton Hill', 'East Harlem')\n",
        "group by neighborhoods.name\n",
        "limit 5\n",
        "''')\n",
        "cursor.fetchall()\n",
        "\n",
        "# [('Kensington', 2972),\n",
        "#  ('Midtown', 19444),\n",
        "#  ('Harlem', 75962),\n",
        "#  ('Clinton Hill', 14586),\n",
        "#  ('East Harlem', 36446)]"
      ]
    },
    {
      "cell_type": "markdown",
      "metadata": {
        "id": "EJODOISUsRxH"
      },
      "source": [
        "* Write a query that returns the name and average listing price of each neighborhood (limit to the first five results)"
      ]
    },
    {
      "cell_type": "code",
      "execution_count": 42,
      "metadata": {
        "colab": {
          "base_uri": "https://localhost:8080/"
        },
        "id": "FcBUS5V7sRxH",
        "outputId": "c21b605f-d08b-47df-b455-58ab3f979f88"
      },
      "outputs": [
        {
          "output_type": "execute_result",
          "data": {
            "text/plain": [
              "[('Clinton Hill', 181.89335664335664),\n",
              " ('East Harlem', 133.1987466427932),\n",
              " ('Harlem', 118.97404063205417),\n",
              " ('Kensington', 92.88571428571429),\n",
              " ('Midtown', 282.7190938511327)]"
            ]
          },
          "metadata": {},
          "execution_count": 42
        }
      ],
      "source": [
        "cursor.execute('''\n",
        "select neighborhoods.name, avg(price)\n",
        "from listings\n",
        "join locations on listings.location_id = locations.id\n",
        "join neighborhoods on locations.neighborhood_id = neighborhoods.id\n",
        "where neighborhoods.name in ('Kensington', 'Midtown', 'Harlem', 'Clinton Hill', 'East Harlem')\n",
        "group by neighborhoods.name\n",
        "limit 5\n",
        "''')\n",
        "cursor.fetchall()\n",
        "\n",
        "# [('Kensington', 92.88571428571429),\n",
        "#  ('Midtown', 282.7190938511327),\n",
        "#  ('Harlem', 118.97404063205417),\n",
        "#  ('Clinton Hill', 181.89335664335664),\n",
        "#  ('East Harlem', 133.1987466427932)]"
      ]
    },
    {
      "cell_type": "markdown",
      "metadata": {
        "id": "OkN80FtLsRxI"
      },
      "source": [
        "### Conclusion\n",
        "In this lab we worked on the \"Has One\" and \"Has Many\" relations in SQL. We began by mapping out the relations between the tables, which gave us a better idea of how we could then join them in our queries. We finished the lab by creating queries using JOIN clauses that connect the tables using these relationships."
      ]
    }
  ],
  "metadata": {
    "kernelspec": {
      "display_name": "Python 3 (ipykernel)",
      "language": "python",
      "name": "python3"
    },
    "language_info": {
      "codemirror_mode": {
        "name": "ipython",
        "version": 3
      },
      "file_extension": ".py",
      "mimetype": "text/x-python",
      "name": "python",
      "nbconvert_exporter": "python",
      "pygments_lexer": "ipython3",
      "version": "3.11.1"
    },
    "colab": {
      "provenance": [],
      "include_colab_link": true
    }
  },
  "nbformat": 4,
  "nbformat_minor": 0
}