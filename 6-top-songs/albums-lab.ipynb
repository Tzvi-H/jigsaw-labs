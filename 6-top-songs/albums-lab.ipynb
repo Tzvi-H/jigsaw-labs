{
  "cells": [
    {
      "cell_type": "markdown",
      "metadata": {
        "id": "view-in-github",
        "colab_type": "text"
      },
      "source": [
        "<a href=\"https://colab.research.google.com/github/Tzvi-H/jigsaw-labs/blob/main/6-top-songs/albums-lab.ipynb\" target=\"_parent\"><img src=\"https://colab.research.google.com/assets/colab-badge.svg\" alt=\"Open In Colab\"/></a>"
      ]
    },
    {
      "cell_type": "markdown",
      "metadata": {
        "id": "vDkR7DS4vBmz"
      },
      "source": [
        "# Albums and Songs Lab"
      ]
    },
    {
      "cell_type": "markdown",
      "metadata": {
        "id": "eLQ02oKCvBm5"
      },
      "source": [
        "### Introduction"
      ]
    },
    {
      "cell_type": "markdown",
      "metadata": {
        "id": "7j34r0QWvBm6"
      },
      "source": [
        "In this lesson, we'll use the skills we have learned over the past several lessons to answer questions about the top songs, artists and albums over the past fifty years."
      ]
    },
    {
      "cell_type": "markdown",
      "metadata": {
        "id": "ubLEF5OKvBm6"
      },
      "source": [
        "### Working with Songs"
      ]
    },
    {
      "cell_type": "markdown",
      "metadata": {
        "id": "Br7_z_7wvBm7"
      },
      "source": [
        "Let's start by working with data regarding top 500 albums according to the Rolling Stone Magazine."
      ]
    },
    {
      "cell_type": "code",
      "execution_count": 1,
      "metadata": {
        "id": "gTl0eWJDvBm8"
      },
      "outputs": [],
      "source": [
        "import pandas as pd\n",
        "url = \"https://raw.githubusercontent.com/eng-6-22/mod-1-a-data-structures/master/6-top-songs/data.csv\"\n",
        "df = pd.read_csv(url)\n",
        "albums = df.to_dict('records')"
      ]
    },
    {
      "cell_type": "code",
      "execution_count": 3,
      "metadata": {
        "colab": {
          "base_uri": "https://localhost:8080/"
        },
        "id": "9w45v2MmvBm-",
        "outputId": "d7e6424c-cfd5-4030-8cce-ac461ce8d07f"
      },
      "outputs": [
        {
          "output_type": "execute_result",
          "data": {
            "text/plain": [
              "{'number': 1,\n",
              " 'year': 1967,\n",
              " 'album': \"Sgt. Pepper's Lonely Hearts Club Band\",\n",
              " 'artist': 'The Beatles',\n",
              " 'genre': 'Rock',\n",
              " 'subgenre': 'Rock & Roll, Psychedelic Rock'}"
            ]
          },
          "metadata": {},
          "execution_count": 3
        }
      ],
      "source": [
        "albums[0]"
      ]
    },
    {
      "cell_type": "code",
      "execution_count": 4,
      "metadata": {
        "colab": {
          "base_uri": "https://localhost:8080/"
        },
        "id": "Fkzbdo-bvBm-",
        "outputId": "b5eb0645-5677-43e6-ebcf-5b10788d0f31"
      },
      "outputs": [
        {
          "output_type": "execute_result",
          "data": {
            "text/plain": [
              "478"
            ]
          },
          "metadata": {},
          "execution_count": 4
        }
      ],
      "source": [
        "len(albums)"
      ]
    },
    {
      "cell_type": "markdown",
      "metadata": {
        "id": "PAO9FE63vBnA"
      },
      "source": [
        "> Well, 478."
      ]
    },
    {
      "cell_type": "markdown",
      "metadata": {
        "id": "5-H3xwONvBnA"
      },
      "source": [
        "Let's write some functions to help us better explore the data."
      ]
    },
    {
      "cell_type": "markdown",
      "metadata": {
        "id": "4ANrZUORvBnB"
      },
      "source": [
        "* `all_albums` - Takes an argument of albums and returns the list of album names.\n",
        "\n",
        "* `all_artists` - Takes argument of list of albums and returns a list of all artists (where each element is a string), and no artist is repeated. \n",
        "\n",
        "* `find_by_name` - Has one argument of `album_name`. Returns a dictionary of the correct album, or `None` if no album is found.\n",
        "\n",
        "* `find_by_ranks` - Takes `begin_rank` and `end_rank` as arguments.  Also possible to execute the function by just providing the `begin_rank` or `end_rank` (and not both).  If no arguments are provided the entire list of albums are returned.\n",
        "\n",
        "* `find_by_years` - Takes `begin_year` and `end_year` as arguments, and returns a list of dictionaries for albums between those years.  Also possible to execute the function by just providing the `begin_year` or `end_year` (and not both)."
      ]
    },
    {
      "cell_type": "code",
      "source": [
        "def all_albums(albums):\n",
        "  return [album['album'] for album in albums]"
      ],
      "metadata": {
        "id": "zyq5oLRnvkMB"
      },
      "execution_count": 8,
      "outputs": []
    },
    {
      "cell_type": "code",
      "source": [
        "def all_artists(albums):\n",
        "  return [album['artist'] for album in albums]\n",
        "# all_artists(albums)[:5]\n",
        "# all_artists(albums)[-5:]"
      ],
      "metadata": {
        "id": "WMNwMBXTv3x-"
      },
      "execution_count": 12,
      "outputs": []
    },
    {
      "cell_type": "code",
      "source": [
        "def find_by_name(album_name):\n",
        "  for album in albums:\n",
        "    if album['album'] == album_name:\n",
        "      return album\n",
        "  return None\n",
        "# find_by_name('The Dark Side of the Moon')"
      ],
      "metadata": {
        "id": "krw1gUg3wGv7"
      },
      "execution_count": 17,
      "outputs": []
    },
    {
      "cell_type": "code",
      "source": [
        "def find_by_ranks(begin_rank=1, end_rank=500):\n",
        "  return [album for album in albums if begin_rank <= album['number'] <= end_rank]\n",
        "# len(find_by_ranks(400, end_rank=399))\n",
        "len(find_by_ranks())"
      ],
      "metadata": {
        "colab": {
          "base_uri": "https://localhost:8080/"
        },
        "id": "abbVRSotwqB4",
        "outputId": "a6092c52-f703-4a97-b34a-ced3663c3047"
      },
      "execution_count": 25,
      "outputs": [
        {
          "output_type": "execute_result",
          "data": {
            "text/plain": [
              "478"
            ]
          },
          "metadata": {},
          "execution_count": 25
        }
      ]
    },
    {
      "cell_type": "code",
      "source": [
        "def find_by_years(begin_year=float('-inf'), end_year=float('inf')):\n",
        "  return [album for album in albums if begin_year <= album['year'] <= end_year]\n",
        "find_by_years(end_year=1955)"
      ],
      "metadata": {
        "colab": {
          "base_uri": "https://localhost:8080/"
        },
        "id": "59Gl1meozUAA",
        "outputId": "b2e32ca0-eb82-4cbf-e4e9-27e4c06a3175"
      },
      "execution_count": 32,
      "outputs": [
        {
          "output_type": "execute_result",
          "data": {
            "text/plain": [
              "[{'number': 101,\n",
              "  'year': 1955,\n",
              "  'album': 'In the Wee Small Hours',\n",
              "  'artist': 'Frank Sinatra',\n",
              "  'genre': 'Jazz, Pop',\n",
              "  'subgenre': 'Big Band, Ballad'}]"
            ]
          },
          "metadata": {},
          "execution_count": 32
        }
      ]
    },
    {
      "cell_type": "markdown",
      "metadata": {
        "id": "iGcrFkqcvBnD"
      },
      "source": [
        "### Working with Songs"
      ]
    },
    {
      "cell_type": "markdown",
      "metadata": {
        "id": "woCf-Y5IvBnD"
      },
      "source": [
        "Next, let's load up data related to songs, and data that connects albums and songs."
      ]
    },
    {
      "cell_type": "code",
      "execution_count": 33,
      "metadata": {
        "id": "38Ly1ut3vBnE"
      },
      "outputs": [],
      "source": [
        "import pandas as pd\n",
        "songs_url = \"https://raw.githubusercontent.com/eng-6-22/mod-1-a-data-structures/master/6-top-songs/top-500-songs.txt\"\n",
        "songs_df = pd.read_csv(songs_url, sep='\\t', header = None, names = ['rank', 'song', 'artist', 'year'])\n",
        "songs = songs_df.to_dict('records')\n",
        "\n",
        "track_url = \"https://raw.githubusercontent.com/eng-6-22/mod-1-a-data-structures/master/6-top-songs/track_data.json\"\n",
        "albums_and_tracks = pd.read_json(track_url)\n",
        "albums_tracks = albums_and_tracks.to_dict('records')"
      ]
    },
    {
      "cell_type": "code",
      "execution_count": 36,
      "metadata": {
        "colab": {
          "base_uri": "https://localhost:8080/"
        },
        "id": "9cSL-BNIvBnE",
        "outputId": "6b78bb67-e03c-4868-f245-46984bb7be98"
      },
      "outputs": [
        {
          "output_type": "execute_result",
          "data": {
            "text/plain": [
              "[{'rank': 1,\n",
              "  'song': 'Like a Rolling Stone',\n",
              "  'artist': 'Bob Dylan',\n",
              "  'year': 1965},\n",
              " {'rank': 2,\n",
              "  'song': 'Satisfaction',\n",
              "  'artist': 'The Rolling Stones',\n",
              "  'year': 1965},\n",
              " {'rank': 3, 'song': 'Imagine', 'artist': 'John Lennon', 'year': 1971},\n",
              " {'rank': 4, 'song': \"What's Going On\", 'artist': 'Marvin Gaye', 'year': 1971},\n",
              " {'rank': 5, 'song': 'Respect', 'artist': 'Aretha Franklin', 'year': 1967}]"
            ]
          },
          "metadata": {},
          "execution_count": 36
        }
      ],
      "source": [
        "songs[:5]"
      ]
    },
    {
      "cell_type": "code",
      "execution_count": 37,
      "metadata": {
        "colab": {
          "base_uri": "https://localhost:8080/"
        },
        "id": "MC74s12-vBnF",
        "outputId": "3406faf6-dbc8-463d-9d3d-e5d07f5757cc"
      },
      "outputs": [
        {
          "output_type": "execute_result",
          "data": {
            "text/plain": [
              "{'artist': 'The Beatles',\n",
              " 'album': \"Sgt. Pepper's Lonely Hearts Club Band\",\n",
              " 'tracks': [\"Sgt. Pepper's Lonely Hearts Club Band - Remix\",\n",
              "  'With A Little Help From My Friends - Remix',\n",
              "  'Lucy In The Sky With Diamonds - Remix',\n",
              "  'Getting Better - Remix',\n",
              "  'Fixing A Hole - Remix',\n",
              "  \"She's Leaving Home - Remix\",\n",
              "  'Being For The Benefit Of Mr. Kite! - Remix',\n",
              "  'Within You Without You - Remix',\n",
              "  \"When I'm Sixty-Four - Remix\",\n",
              "  'Lovely Rita - Remix',\n",
              "  'Good Morning Good Morning - Remix',\n",
              "  \"Sgt. Pepper's Lonely Hearts Club Band (Reprise) - Remix\",\n",
              "  'A Day In The Life - Remix',\n",
              "  \"Sgt. Pepper's Lonely Hearts Club Band - Take 9 And Speech\",\n",
              "  'With A Little Help From My Friends - Take 1 / False Start And Take 2 / Instrumental',\n",
              "  'Lucy In The Sky With Diamonds - Take 1',\n",
              "  'Getting Better - Take 1 / Instrumental And Speech At The End',\n",
              "  'Fixing A Hole - Speech And Take 3',\n",
              "  \"She's Leaving Home - Take 1 / Instrumental\",\n",
              "  'Being For The Benefit Of Mr. Kite! - Take 4',\n",
              "  'Within You Without You - Take 1 / Indian Instruments',\n",
              "  \"When I'm Sixty-Four - Take 2\",\n",
              "  'Lovely Rita - Speech And Take 9',\n",
              "  'Good Morning Good Morning - Take 8',\n",
              "  \"Sgt. Pepper's Lonely Hearts Club Band (Reprise) - Speech And Take 8\",\n",
              "  'A Day In The Life - Take 1 With Hums',\n",
              "  'Strawberry Fields Forever - Take 7',\n",
              "  'Strawberry Fields Forever - Take 26',\n",
              "  'Strawberry Fields Forever - Stereo Mix 2015',\n",
              "  'Penny Lane - Take 6 / Instrumental',\n",
              "  'Penny Lane - Stereo Mix 2017']}"
            ]
          },
          "metadata": {},
          "execution_count": 37
        }
      ],
      "source": [
        "albums_tracks[0]"
      ]
    },
    {
      "cell_type": "markdown",
      "metadata": {
        "id": "4PucS7fSvBnJ"
      },
      "source": [
        "* Write functions that perform the following: "
      ]
    },
    {
      "cell_type": "code",
      "source": [
        "song_names = [song['song'] for song in songs]\n",
        "\n",
        "def song_in_songs_other(songs_a, songs_b):\n",
        "  return [song for song in songs_a if song in songs_b]\n",
        "\n",
        "def album_most_top_songs():\n",
        "  max_album = None\n",
        "  max_count = float('-inf')\n",
        "\n",
        "  for album in albums_tracks:\n",
        "    tracks = album['tracks']\n",
        "    count = len(song_in_songs_other(tracks, song_names))\n",
        "    if count > max_count:\n",
        "      max_count = count\n",
        "      max_album = album\n",
        "\n",
        "  return max_album['artist'], max_album['album'], max_count    \n",
        "album_most_top_songs()"
      ],
      "metadata": {
        "colab": {
          "base_uri": "https://localhost:8080/"
        },
        "id": "KLLxgRbt24Eo",
        "outputId": "86c70c80-af16-48a7-d77e-9a72a1c7c3b3"
      },
      "execution_count": 53,
      "outputs": [
        {
          "output_type": "execute_result",
          "data": {
            "text/plain": [
              "('Elvis Presley', 'Elvis Presley', 8)"
            ]
          },
          "metadata": {},
          "execution_count": 53
        }
      ]
    },
    {
      "cell_type": "code",
      "source": [
        "def top_ten_albums_by_songs():\n",
        "  albums_with_top_tracks = []\n",
        "  top_ten_albums = {}\n",
        "\n",
        "  for album in albums_tracks:\n",
        "    top_tracks = song_in_songs_other(album['tracks'], song_names)\n",
        "    if (len(top_tracks) > 0):\n",
        "      albums_with_top_tracks.append({\n",
        "          'tracks': top_tracks,\n",
        "          'album_name': album['album']\n",
        "      })\n",
        "  \n",
        "  top_albums = sorted(albums_with_top_tracks, key=lambda x: len(x['tracks']), reverse=True)\n",
        "\n",
        "  for album in top_albums[:10]:\n",
        "    album_name = album['album_name']\n",
        "    tracks = album['tracks']\n",
        "    top_ten_albums[album_name] = len(tracks)\n",
        "  \n",
        "  return top_ten_albums\n",
        "\n",
        "top_ten_albums_by_songs()"
      ],
      "metadata": {
        "colab": {
          "base_uri": "https://localhost:8080/"
        },
        "id": "4iOwlMjF6ZUk",
        "outputId": "26b7fd2a-6b95-4821-f960-7cdcc4ccd42b"
      },
      "execution_count": 64,
      "outputs": [
        {
          "output_type": "execute_result",
          "data": {
            "text/plain": [
              "{'Elvis Presley': 8,\n",
              " 'The Sun Records Collection': 6,\n",
              " 'Are You Experienced': 4,\n",
              " 'Portrait of a Legend 1951-1964': 4,\n",
              " 'Highway 61 Revisited': 3,\n",
              " 'Bringing It All Back Home': 3,\n",
              " 'Star Time': 3,\n",
              " 'Led Zeppelin II': 3,\n",
              " 'I Never Loved a Man the Way I Love You': 3,\n",
              " 'All the Young Dudes': 3}"
            ]
          },
          "metadata": {},
          "execution_count": 64
        }
      ]
    },
    {
      "cell_type": "markdown",
      "metadata": {
        "id": "mX0xsWPfvBnJ"
      },
      "source": [
        "`album_most_top_songs` - \n",
        "    * Returns the name of the artist and album that has that most songs featured on the top 500 songs list\n",
        "\n",
        "`top_ten_albums_by_songs` - returns a dictionary with the 10 albums that have the most songs that appear in the top songs list. The album names should be the keys and the corresponding values should be the number of songs that appear on the top 500 list."
      ]
    }
  ],
  "metadata": {
    "kernelspec": {
      "display_name": "Python 3 (ipykernel)",
      "language": "python",
      "name": "python3"
    },
    "language_info": {
      "codemirror_mode": {
        "name": "ipython",
        "version": 3
      },
      "file_extension": ".py",
      "mimetype": "text/x-python",
      "name": "python",
      "nbconvert_exporter": "python",
      "pygments_lexer": "ipython3",
      "version": "3.9.10"
    },
    "colab": {
      "provenance": [],
      "include_colab_link": true
    }
  },
  "nbformat": 4,
  "nbformat_minor": 0
}