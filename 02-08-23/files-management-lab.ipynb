{
  "cells": [
    {
      "cell_type": "markdown",
      "id": "f9f9b0d1-7e11-4e58-b693-5a482bb21758",
      "metadata": {
        "id": "f9f9b0d1-7e11-4e58-b693-5a482bb21758"
      },
      "source": [
        "# Managing Files Lab"
      ]
    },
    {
      "cell_type": "code",
      "source": [
        "%load_ext autoreload\n",
        "%autoreload 2"
      ],
      "metadata": {
        "id": "zFuB2SGG9KR-"
      },
      "id": "zFuB2SGG9KR-",
      "execution_count": 1,
      "outputs": []
    },
    {
      "cell_type": "code",
      "source": [
        "!git clone https://github.com/oop-jigsaw/1-file-relative-path-lab\n",
        "\n"
      ],
      "metadata": {
        "id": "j0g_xkBr9N7G",
        "outputId": "2a9e4a51-73fe-4a60-cdd3-cb0f7a7f0ced",
        "colab": {
          "base_uri": "https://localhost:8080/"
        }
      },
      "id": "j0g_xkBr9N7G",
      "execution_count": 2,
      "outputs": [
        {
          "output_type": "stream",
          "name": "stdout",
          "text": [
            "Cloning into '1-file-relative-path-lab'...\n",
            "remote: Enumerating objects: 26, done.\u001b[K\n",
            "remote: Counting objects: 100% (26/26), done.\u001b[K\n",
            "remote: Compressing objects: 100% (21/21), done.\u001b[K\n",
            "remote: Total 26 (delta 5), reused 25 (delta 4), pack-reused 0\u001b[K\n",
            "Unpacking objects: 100% (26/26), 865.92 KiB | 6.93 MiB/s, done.\n"
          ]
        }
      ]
    },
    {
      "cell_type": "code",
      "source": [
        "%cd 1-file-relative-path-lab/codebase/src/"
      ],
      "metadata": {
        "id": "0w1oOxQt9enL",
        "outputId": "2cb33b22-b680-454b-b0da-37e6e3453c09",
        "colab": {
          "base_uri": "https://localhost:8080/"
        }
      },
      "id": "0w1oOxQt9enL",
      "execution_count": 5,
      "outputs": [
        {
          "output_type": "stream",
          "name": "stdout",
          "text": [
            "/content/1-file-relative-path-lab/codebase/src\n"
          ]
        }
      ]
    },
    {
      "cell_type": "markdown",
      "id": "55f04ec9-57c0-4a60-a336-82cb63082108",
      "metadata": {
        "id": "55f04ec9-57c0-4a60-a336-82cb63082108"
      },
      "source": [
        "### Introduction"
      ]
    },
    {
      "cell_type": "markdown",
      "id": "224f6ad6-b196-447e-a6e1-d0622710b4e5",
      "metadata": {
        "id": "224f6ad6-b196-447e-a6e1-d0622710b4e5"
      },
      "source": [
        "In this lesson, we'll practice loading in our data from different files."
      ]
    },
    {
      "cell_type": "markdown",
      "id": "8bd875fa-d9ae-4584-bfe8-4a78ecd84cee",
      "metadata": {
        "id": "8bd875fa-d9ae-4584-bfe8-4a78ecd84cee"
      },
      "source": [
        "### Running our scripts"
      ]
    },
    {
      "cell_type": "markdown",
      "id": "c6f92d29-4cfb-4f65-8b32-6c9ca3bd6b74",
      "metadata": {
        "id": "c6f92d29-4cfb-4f65-8b32-6c9ca3bd6b74"
      },
      "source": [
        "We can begin by running the code in each of the scripts."
      ]
    },
    {
      "cell_type": "markdown",
      "id": "34c1b892-4bb8-488c-90f4-e16adca11a70",
      "metadata": {
        "id": "34c1b892-4bb8-488c-90f4-e16adca11a70"
      },
      "source": [
        "Run the `index.py` file, the `test_index.py` and the `console.py` file such that each of them display the following in the console.\n",
        "\n",
        "> Get them to run without changing any of the code in the files.  To do so, you'll have to navigate into differen folders.\n",
        "\n",
        "If it works properly, we should see the following."
      ]
    },
    {
      "cell_type": "code",
      "source": [
        "!python3 index.py"
      ],
      "metadata": {
        "id": "lnmBRS7c9s4s",
        "outputId": "73bf2c91-f1ed-4c9b-eb48-2a6d9381867e",
        "colab": {
          "base_uri": "https://localhost:8080/"
        }
      },
      "id": "lnmBRS7c9s4s",
      "execution_count": 8,
      "outputs": [
        {
          "output_type": "stream",
          "name": "stdout",
          "text": [
            "/content/1-file-relative-path-lab/codebase\n",
            "python3: can't open file 'index.py': [Errno 2] No such file or directory\n"
          ]
        }
      ]
    },
    {
      "cell_type": "code",
      "source": [
        "!python3 tests/test_index.py"
      ],
      "metadata": {
        "id": "Puk5zyvd-rg6",
        "outputId": "0ef8ddd6-48ca-4c77-b6b3-d5b73304dd2b",
        "colab": {
          "base_uri": "https://localhost:8080/"
        }
      },
      "id": "Puk5zyvd-rg6",
      "execution_count": 13,
      "outputs": [
        {
          "output_type": "stream",
          "name": "stdout",
          "text": [
            "{'number': 1, 'year': 1967, 'album': \"Sgt. Pepper's Lonely Hearts Club Band\", 'artist': 'The Beatles', 'genre': 'Rock', 'subgenre': 'Rock & Roll, Psychedelic Rock'}\n"
          ]
        }
      ]
    },
    {
      "cell_type": "markdown",
      "id": "ca9cdec0-bb39-46f6-98bf-98584c1cb4e9",
      "metadata": {
        "id": "ca9cdec0-bb39-46f6-98bf-98584c1cb4e9"
      },
      "source": [
        "```python\n",
        "{'number': 1, 'year': 1967, 'album': \"Sgt. Pepper's Lonely Hearts Club Band\", 'artist': 'The Beatles', 'genre': 'Rock', 'subgenre': 'Rock & Roll, Psychedelic Rock'}\n",
        "```"
      ]
    },
    {
      "cell_type": "markdown",
      "id": "3485bc9d-7e59-4350-be61-18669865a6a0",
      "metadata": {
        "id": "3485bc9d-7e59-4350-be61-18669865a6a0"
      },
      "source": [
        "Now generally, we prefer to structure our code so that we can run `python3` from the same directory each time.  In this case, we want to structure our code so that we can always run our code from inside the `codebase` directory."
      ]
    },
    {
      "cell_type": "markdown",
      "id": "07e9a2f5-db53-461d-845b-144b9bbc43b5",
      "metadata": {
        "id": "07e9a2f5-db53-461d-845b-144b9bbc43b5"
      },
      "source": [
        "<img src=\"https://github.com/oop-jigsaw/1-file-relative-path-lab/blob/main/codebase-dir.png?raw=1\" width=\"70%\">"
      ]
    },
    {
      "cell_type": "markdown",
      "id": "9371bd4b-c84b-40e9-97b9-3ba21e4171db",
      "metadata": {
        "id": "9371bd4b-c84b-40e9-97b9-3ba21e4171db"
      },
      "source": [
        "So change the code so that the same dictionary still prints out, and we can run each of our files from the `codebase` directory."
      ]
    },
    {
      "cell_type": "markdown",
      "id": "bab7b6e5-9588-427f-807c-4bb3ac94ec7d",
      "metadata": {
        "id": "bab7b6e5-9588-427f-807c-4bb3ac94ec7d"
      },
      "source": [
        "If it works, we should be able to run the following successfully:\n",
        "\n",
        "```bash\n",
        "python3 console.py\n",
        "\n",
        "python3 src/index.py\n",
        "\n",
        "python3 tests/test_index.py\n",
        "```"
      ]
    },
    {
      "cell_type": "markdown",
      "id": "fd6b326b-d86c-44d6-b648-c9b1367ddea9",
      "metadata": {
        "id": "fd6b326b-d86c-44d6-b648-c9b1367ddea9"
      },
      "source": [
        "<img src=\"https://github.com/oop-jigsaw/1-file-relative-path-lab/blob/main/results.png?raw=1\" width=\"100%\">"
      ]
    },
    {
      "cell_type": "markdown",
      "id": "70673a76-9c97-4831-a1ad-be47e0e98d65",
      "metadata": {
        "id": "70673a76-9c97-4831-a1ad-be47e0e98d65"
      },
      "source": [
        "### Final thoughts"
      ]
    },
    {
      "cell_type": "markdown",
      "id": "69a1a579-072e-40e9-a581-6aa7221c7cd9",
      "metadata": {
        "id": "69a1a579-072e-40e9-a581-6aa7221c7cd9"
      },
      "source": [
        "We should aim to structure our codebase so that we are always running our code from the same project directory.  This means that our relative paths should be relative from that same project folder. \n",
        "\n",
        "This is what we ended up with.  In each file, we are now properly specifying the path to our data relative to the `codebase` directory."
      ]
    }
  ],
  "metadata": {
    "kernelspec": {
      "display_name": "Python 3.9.10 64-bit",
      "language": "python",
      "name": "python3"
    },
    "language_info": {
      "codemirror_mode": {
        "name": "ipython",
        "version": 3
      },
      "file_extension": ".py",
      "mimetype": "text/x-python",
      "name": "python",
      "nbconvert_exporter": "python",
      "pygments_lexer": "ipython3",
      "version": "3.9.10"
    },
    "vscode": {
      "interpreter": {
        "hash": "aee8b7b246df8f9039afb4144a1f6fd8d2ca17a180786b69acc140d282b71a49"
      }
    },
    "colab": {
      "provenance": []
    }
  },
  "nbformat": 4,
  "nbformat_minor": 5
}