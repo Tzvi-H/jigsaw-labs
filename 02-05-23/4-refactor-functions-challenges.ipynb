{
  "cells": [
    {
      "cell_type": "markdown",
      "metadata": {
        "id": "view-in-github",
        "colab_type": "text"
      },
      "source": [
        "<a href=\"https://colab.research.google.com/github/Tzvi-H/jigsaw-labs/blob/main/02-05-23/4-refactor-functions-challenges.ipynb\" target=\"_parent\"><img src=\"https://colab.research.google.com/assets/colab-badge.svg\" alt=\"Open In Colab\"/></a>"
      ]
    },
    {
      "cell_type": "markdown",
      "metadata": {
        "id": "s_PAKAEW16xd"
      },
      "source": [
        "# Refactor with Functions Challenges"
      ]
    },
    {
      "cell_type": "markdown",
      "metadata": {
        "id": "6cjO_ssS16xt"
      },
      "source": [
        "### Introduction"
      ]
    },
    {
      "cell_type": "markdown",
      "metadata": {
        "id": "w8RNm4Zk16xu"
      },
      "source": [
        "Let's take the code from our previous movies lab, and see if we can make our code more flexible with functions."
      ]
    },
    {
      "cell_type": "markdown",
      "metadata": {
        "id": "qf3vltZm16x5"
      },
      "source": [
        "### Function Changes"
      ]
    },
    {
      "cell_type": "markdown",
      "metadata": {
        "id": "eJjCjkbA16x6"
      },
      "source": [
        "> Load the data by pressing `shift + return` below."
      ]
    },
    {
      "cell_type": "code",
      "execution_count": 2,
      "metadata": {
        "id": "e1Q3s9Yc16x7"
      },
      "outputs": [],
      "source": [
        "import pandas as pd\n",
        "url = \"https://raw.githubusercontent.com/eng-6-22/mod-1-a-data-structures/master/4-functions/imdb_movies.csv\"\n",
        "df = pd.read_csv(url)\n",
        "movies = df.to_dict('records')"
      ]
    },
    {
      "cell_type": "markdown",
      "metadata": {
        "id": "nSp7JOLt16x_"
      },
      "source": [
        "1. `movies_since`"
      ]
    },
    {
      "cell_type": "code",
      "source": [
        "df.head(n=2)"
      ],
      "metadata": {
        "id": "y_2O7bwx6mDE",
        "outputId": "c18b1923-6416-4ac3-aac1-c8b94e540b22",
        "colab": {
          "base_uri": "https://localhost:8080/",
          "height": 112
        }
      },
      "execution_count": 3,
      "outputs": [
        {
          "output_type": "execute_result",
          "data": {
            "text/plain": [
              "                                      title      genre     budget  runtime  \\\n",
              "0                                    Avatar     Action  237000000    162.0   \n",
              "1  Pirates of the Caribbean: At World's End  Adventure  300000000    169.0   \n",
              "\n",
              "   year  month     revenue  \n",
              "0  2009     12  2787965087  \n",
              "1  2007      5   961000000  "
            ],
            "text/html": [
              "\n",
              "  <div id=\"df-7c6fcde5-f155-47ce-979b-2b5a01dd6904\">\n",
              "    <div class=\"colab-df-container\">\n",
              "      <div>\n",
              "<style scoped>\n",
              "    .dataframe tbody tr th:only-of-type {\n",
              "        vertical-align: middle;\n",
              "    }\n",
              "\n",
              "    .dataframe tbody tr th {\n",
              "        vertical-align: top;\n",
              "    }\n",
              "\n",
              "    .dataframe thead th {\n",
              "        text-align: right;\n",
              "    }\n",
              "</style>\n",
              "<table border=\"1\" class=\"dataframe\">\n",
              "  <thead>\n",
              "    <tr style=\"text-align: right;\">\n",
              "      <th></th>\n",
              "      <th>title</th>\n",
              "      <th>genre</th>\n",
              "      <th>budget</th>\n",
              "      <th>runtime</th>\n",
              "      <th>year</th>\n",
              "      <th>month</th>\n",
              "      <th>revenue</th>\n",
              "    </tr>\n",
              "  </thead>\n",
              "  <tbody>\n",
              "    <tr>\n",
              "      <th>0</th>\n",
              "      <td>Avatar</td>\n",
              "      <td>Action</td>\n",
              "      <td>237000000</td>\n",
              "      <td>162.0</td>\n",
              "      <td>2009</td>\n",
              "      <td>12</td>\n",
              "      <td>2787965087</td>\n",
              "    </tr>\n",
              "    <tr>\n",
              "      <th>1</th>\n",
              "      <td>Pirates of the Caribbean: At World's End</td>\n",
              "      <td>Adventure</td>\n",
              "      <td>300000000</td>\n",
              "      <td>169.0</td>\n",
              "      <td>2007</td>\n",
              "      <td>5</td>\n",
              "      <td>961000000</td>\n",
              "    </tr>\n",
              "  </tbody>\n",
              "</table>\n",
              "</div>\n",
              "      <button class=\"colab-df-convert\" onclick=\"convertToInteractive('df-7c6fcde5-f155-47ce-979b-2b5a01dd6904')\"\n",
              "              title=\"Convert this dataframe to an interactive table.\"\n",
              "              style=\"display:none;\">\n",
              "        \n",
              "  <svg xmlns=\"http://www.w3.org/2000/svg\" height=\"24px\"viewBox=\"0 0 24 24\"\n",
              "       width=\"24px\">\n",
              "    <path d=\"M0 0h24v24H0V0z\" fill=\"none\"/>\n",
              "    <path d=\"M18.56 5.44l.94 2.06.94-2.06 2.06-.94-2.06-.94-.94-2.06-.94 2.06-2.06.94zm-11 1L8.5 8.5l.94-2.06 2.06-.94-2.06-.94L8.5 2.5l-.94 2.06-2.06.94zm10 10l.94 2.06.94-2.06 2.06-.94-2.06-.94-.94-2.06-.94 2.06-2.06.94z\"/><path d=\"M17.41 7.96l-1.37-1.37c-.4-.4-.92-.59-1.43-.59-.52 0-1.04.2-1.43.59L10.3 9.45l-7.72 7.72c-.78.78-.78 2.05 0 2.83L4 21.41c.39.39.9.59 1.41.59.51 0 1.02-.2 1.41-.59l7.78-7.78 2.81-2.81c.8-.78.8-2.07 0-2.86zM5.41 20L4 18.59l7.72-7.72 1.47 1.35L5.41 20z\"/>\n",
              "  </svg>\n",
              "      </button>\n",
              "      \n",
              "  <style>\n",
              "    .colab-df-container {\n",
              "      display:flex;\n",
              "      flex-wrap:wrap;\n",
              "      gap: 12px;\n",
              "    }\n",
              "\n",
              "    .colab-df-convert {\n",
              "      background-color: #E8F0FE;\n",
              "      border: none;\n",
              "      border-radius: 50%;\n",
              "      cursor: pointer;\n",
              "      display: none;\n",
              "      fill: #1967D2;\n",
              "      height: 32px;\n",
              "      padding: 0 0 0 0;\n",
              "      width: 32px;\n",
              "    }\n",
              "\n",
              "    .colab-df-convert:hover {\n",
              "      background-color: #E2EBFA;\n",
              "      box-shadow: 0px 1px 2px rgba(60, 64, 67, 0.3), 0px 1px 3px 1px rgba(60, 64, 67, 0.15);\n",
              "      fill: #174EA6;\n",
              "    }\n",
              "\n",
              "    [theme=dark] .colab-df-convert {\n",
              "      background-color: #3B4455;\n",
              "      fill: #D2E3FC;\n",
              "    }\n",
              "\n",
              "    [theme=dark] .colab-df-convert:hover {\n",
              "      background-color: #434B5C;\n",
              "      box-shadow: 0px 1px 3px 1px rgba(0, 0, 0, 0.15);\n",
              "      filter: drop-shadow(0px 1px 2px rgba(0, 0, 0, 0.3));\n",
              "      fill: #FFFFFF;\n",
              "    }\n",
              "  </style>\n",
              "\n",
              "      <script>\n",
              "        const buttonEl =\n",
              "          document.querySelector('#df-7c6fcde5-f155-47ce-979b-2b5a01dd6904 button.colab-df-convert');\n",
              "        buttonEl.style.display =\n",
              "          google.colab.kernel.accessAllowed ? 'block' : 'none';\n",
              "\n",
              "        async function convertToInteractive(key) {\n",
              "          const element = document.querySelector('#df-7c6fcde5-f155-47ce-979b-2b5a01dd6904');\n",
              "          const dataTable =\n",
              "            await google.colab.kernel.invokeFunction('convertToInteractive',\n",
              "                                                     [key], {});\n",
              "          if (!dataTable) return;\n",
              "\n",
              "          const docLinkHtml = 'Like what you see? Visit the ' +\n",
              "            '<a target=\"_blank\" href=https://colab.research.google.com/notebooks/data_table.ipynb>data table notebook</a>'\n",
              "            + ' to learn more about interactive tables.';\n",
              "          element.innerHTML = '';\n",
              "          dataTable['output_type'] = 'display_data';\n",
              "          await google.colab.output.renderOutput(dataTable, element);\n",
              "          const docLink = document.createElement('div');\n",
              "          docLink.innerHTML = docLinkHtml;\n",
              "          element.appendChild(docLink);\n",
              "        }\n",
              "      </script>\n",
              "    </div>\n",
              "  </div>\n",
              "  "
            ]
          },
          "metadata": {},
          "execution_count": 3
        }
      ]
    },
    {
      "cell_type": "markdown",
      "metadata": {
        "id": "vxEdGF9816yA"
      },
      "source": [
        "Write a method called `movies_since` that will return only the movies after a certain year."
      ]
    },
    {
      "cell_type": "code",
      "execution_count": 8,
      "metadata": {
        "id": "5LnI9-7f16yK",
        "outputId": "6481ebdf-3832-429a-973a-726998531755",
        "colab": {
          "base_uri": "https://localhost:8080/"
        }
      },
      "outputs": [
        {
          "output_type": "execute_result",
          "data": {
            "text/plain": [
              "129"
            ]
          },
          "metadata": {},
          "execution_count": 8
        }
      ],
      "source": [
        "len([movie for movie in movies if movie['year'] >= 2015])"
      ]
    },
    {
      "cell_type": "code",
      "source": [
        "def movies_since(movies, year):\n",
        "  return [movie for movie in movies if movie['year'] >= year]\n",
        "len(movies_since(movies, 2015))"
      ],
      "metadata": {
        "id": "r4wYHsTy7C-l",
        "outputId": "3f014890-08cc-4bac-eb76-656bdb549927",
        "colab": {
          "base_uri": "https://localhost:8080/"
        }
      },
      "execution_count": 9,
      "outputs": [
        {
          "output_type": "execute_result",
          "data": {
            "text/plain": [
              "129"
            ]
          },
          "metadata": {},
          "execution_count": 9
        }
      ]
    },
    {
      "cell_type": "markdown",
      "metadata": {
        "id": "BGe7AbYe16yL"
      },
      "source": [
        "2. `find_by`"
      ]
    },
    {
      "cell_type": "markdown",
      "metadata": {
        "id": "do7qEvkG16yL"
      },
      "source": [
        "In the last lesson, we also had a `find_by_genre` method. \n",
        "\n",
        "```python\n",
        "\n",
        "def find_by_genre(movies, genre_name):\n",
        "    genre_name = genre_name.title()\n",
        "    return [movie for movie in movies \n",
        "    if movie['genre'] == genre_name]\n",
        "```\n",
        "\n",
        "Let's say that we wanted the ability to return movies with matching year, genre, or title, etc.  Change the function to so that we return movies where checks if any attribute matches."
      ]
    },
    {
      "cell_type": "code",
      "execution_count": 12,
      "metadata": {
        "id": "HkJu32ZO16yM",
        "outputId": "05f29df6-a60c-44b8-d59b-0bfc13ac98ab",
        "colab": {
          "base_uri": "https://localhost:8080/"
        }
      },
      "outputs": [
        {
          "output_type": "execute_result",
          "data": {
            "text/plain": [
              "45"
            ]
          },
          "metadata": {},
          "execution_count": 12
        }
      ],
      "source": [
        "def find_by(movies, category, value):\n",
        "    return [movie for movie in movies if movie[category] == value]\n",
        "\n",
        "len(find_by(movies, 'year', 2016))"
      ]
    },
    {
      "cell_type": "markdown",
      "metadata": {
        "id": "EsW-N2zd16yM"
      },
      "source": [
        "3. Rewrite `find_by_genre` \n",
        "\n",
        "Now use the `find_by` method to rewrite the `find_by_genre` method.  The `find_by_genre` method should be case insensitive."
      ]
    },
    {
      "cell_type": "code",
      "source": [
        "def find_by_genre(movies, genre):\n",
        "  genre_name = genre.title()\n",
        "  return find_by(movies, 'genre', genre_name)\n"
      ],
      "metadata": {
        "id": "KmlQGuGO7jDf"
      },
      "execution_count": 13,
      "outputs": []
    },
    {
      "cell_type": "markdown",
      "metadata": {
        "id": "T3DGhFiS16yO"
      },
      "source": [
        "4. `top` function"
      ]
    },
    {
      "cell_type": "markdown",
      "metadata": {
        "id": "FA2gh9N_16yP"
      },
      "source": [
        "In the previous lesson, we wrote code to select the top 100 movies by revenue."
      ]
    },
    {
      "cell_type": "code",
      "execution_count": 14,
      "metadata": {
        "id": "RXqhn3iU16yP"
      },
      "outputs": [],
      "source": [
        "top_100_revenue = sorted(movies,\n",
        "       key = lambda movie: movie['revenue'],\n",
        "       reverse = True)[:100]"
      ]
    },
    {
      "cell_type": "markdown",
      "metadata": {
        "id": "vtIk5zXV16yV"
      },
      "source": [
        "Write a method called `top` that: \n",
        "1. Returns the top 100 movies by any category\n",
        "    * For example, it should work for budget as well\n",
        "2. Limits to the top 100 as the default, but allows for specifying any limit.\n",
        "3. Has an argument `desc` that by default is `True` and sorts from top to bottom. "
      ]
    },
    {
      "cell_type": "code",
      "execution_count": 25,
      "metadata": {
        "id": "4S7NKo4Y16yf",
        "outputId": "c0f72aea-21b1-4127-9e26-2dc9e1c1c9bb",
        "colab": {
          "base_uri": "https://localhost:8080/"
        }
      },
      "outputs": [
        {
          "output_type": "execute_result",
          "data": {
            "text/plain": [
              "[{'title': 'The Lovers',\n",
              "  'genre': 'Action',\n",
              "  'budget': 27000000,\n",
              "  'runtime': 109.0,\n",
              "  'year': 2015,\n",
              "  'month': 2,\n",
              "  'revenue': 0},\n",
              " {'title': 'The Wolfman',\n",
              "  'genre': 'Drama',\n",
              "  'budget': 150000000,\n",
              "  'runtime': 102.0,\n",
              "  'year': 2010,\n",
              "  'month': 2,\n",
              "  'revenue': 0}]"
            ]
          },
          "metadata": {},
          "execution_count": 25
        }
      ],
      "source": [
        "def top(movies, category, limit=100, desc=True):\n",
        "  return sorted(movies, key = lambda movie: movie[category], reverse=desc)[:limit]\n",
        "top(movies, 'revenue', limit=2, desc=False)"
      ]
    },
    {
      "cell_type": "markdown",
      "metadata": {
        "id": "W-8-0Grh16yf"
      },
      "source": [
        "5. `movies_from`"
      ]
    },
    {
      "cell_type": "markdown",
      "metadata": {
        "id": "U7VtyXVj16yg"
      },
      "source": [
        "What if we wanted a method that could allow us to find movies only before a year, or only after a year, or both."
      ]
    },
    {
      "cell_type": "code",
      "execution_count": 38,
      "metadata": {
        "id": "niGP451O16yg",
        "outputId": "84e3e894-8f3e-48da-d10c-e502450a1d1c",
        "colab": {
          "base_uri": "https://localhost:8080/"
        }
      },
      "outputs": [
        {
          "output_type": "execute_result",
          "data": {
            "text/plain": [
              "[]"
            ]
          },
          "metadata": {},
          "execution_count": 38
        }
      ],
      "source": [
        "def movies_from(movies, year_from=float('-inf'), year_end=float('inf')):\n",
        "    return [movie for movie in movies if year_from <= movie['year'] <= year_end ]\n",
        "movies_from(movies, year_from = 2017)"
      ]
    },
    {
      "cell_type": "markdown",
      "metadata": {
        "id": "zl3yK47n16yg"
      },
      "source": [
        "Then write the code to check your work below."
      ]
    },
    {
      "cell_type": "markdown",
      "metadata": {
        "id": "OesGnsuI16yh"
      },
      "source": [
        "### Summary"
      ]
    },
    {
      "cell_type": "markdown",
      "metadata": {
        "id": "8DJEQZ-B16yh"
      },
      "source": [
        "In this lesson, we practiced making our code more flexible with functions.  Notice that to do so, we identified the values that we're hard coded and turned them into arguments.  This made our hard-coded values, and thus the functionality of our code, more flexible."
      ]
    }
  ],
  "metadata": {
    "kernelspec": {
      "display_name": "Python 3 (ipykernel)",
      "language": "python",
      "name": "python3"
    },
    "language_info": {
      "codemirror_mode": {
        "name": "ipython",
        "version": 3
      },
      "file_extension": ".py",
      "mimetype": "text/x-python",
      "name": "python",
      "nbconvert_exporter": "python",
      "pygments_lexer": "ipython3",
      "version": "3.10.6"
    },
    "colab": {
      "provenance": [],
      "include_colab_link": true
    }
  },
  "nbformat": 4,
  "nbformat_minor": 0
}