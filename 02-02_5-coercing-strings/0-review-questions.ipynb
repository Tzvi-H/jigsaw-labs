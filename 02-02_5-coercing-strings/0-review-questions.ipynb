{
  "cells": [
    {
      "cell_type": "markdown",
      "metadata": {
        "id": "view-in-github",
        "colab_type": "text"
      },
      "source": [
        "<a href=\"https://colab.research.google.com/github/Tzvi-H/jigsaw-labs/blob/main/02-02_5-coercing-strings/0-review-questions.ipynb\" target=\"_parent\"><img src=\"https://colab.research.google.com/assets/colab-badge.svg\" alt=\"Open In Colab\"/></a>"
      ]
    },
    {
      "cell_type": "markdown",
      "metadata": {
        "id": "EyjnedC_ec7X"
      },
      "source": [
        "# Review Questions"
      ]
    },
    {
      "cell_type": "markdown",
      "metadata": {
        "id": "znQT5uCgec7d"
      },
      "source": [
        "### Function Warmup"
      ]
    },
    {
      "cell_type": "markdown",
      "metadata": {
        "id": "CRj05IPcec7e"
      },
      "source": [
        "Write a function that takes in a person's name and capitalizes it."
      ]
    },
    {
      "cell_type": "code",
      "execution_count": 2,
      "metadata": {
        "id": "Z9_dzSp1ec7f"
      },
      "outputs": [],
      "source": [
        "def capitalize_name(name):\n",
        "    return name.capitalize()"
      ]
    },
    {
      "cell_type": "code",
      "execution_count": 3,
      "metadata": {
        "id": "_FQOV_6Fec7i",
        "outputId": "1c27df10-c352-4026-8902-a11f87b10d3a",
        "colab": {
          "base_uri": "https://localhost:8080/",
          "height": 35
        }
      },
      "outputs": [
        {
          "output_type": "execute_result",
          "data": {
            "text/plain": [
              "'Bob'"
            ],
            "application/vnd.google.colaboratory.intrinsic+json": {
              "type": "string"
            }
          },
          "metadata": {},
          "execution_count": 3
        }
      ],
      "source": [
        "capitalize_name('bob')\n",
        "# 'Bob'"
      ]
    },
    {
      "cell_type": "code",
      "execution_count": 4,
      "metadata": {
        "id": "mlVlAW29ec7l",
        "outputId": "e01e32dd-3e3b-4e27-d5d7-946a5b45c342",
        "colab": {
          "base_uri": "https://localhost:8080/",
          "height": 35
        }
      },
      "outputs": [
        {
          "output_type": "execute_result",
          "data": {
            "text/plain": [
              "'Fred'"
            ],
            "application/vnd.google.colaboratory.intrinsic+json": {
              "type": "string"
            }
          },
          "metadata": {},
          "execution_count": 4
        }
      ],
      "source": [
        "capitalize_name('fred')\n",
        "# 'Fred'"
      ]
    },
    {
      "cell_type": "markdown",
      "metadata": {
        "id": "kZFgD-DBec7m"
      },
      "source": [
        "* Write a function that takes two numbers and divides them"
      ]
    },
    {
      "cell_type": "code",
      "execution_count": 7,
      "metadata": {
        "id": "3Np1JGCFec7m"
      },
      "outputs": [],
      "source": [
        "def divide(first_number, second_number=1):\n",
        "    return first_number / second_number"
      ]
    },
    {
      "cell_type": "code",
      "execution_count": 11,
      "metadata": {
        "id": "V9b2RqvJec7n",
        "outputId": "ceb57b40-e30b-41bd-927d-4125caaf2a44",
        "colab": {
          "base_uri": "https://localhost:8080/"
        }
      },
      "outputs": [
        {
          "output_type": "execute_result",
          "data": {
            "text/plain": [
              "3.0"
            ]
          },
          "metadata": {},
          "execution_count": 11
        }
      ],
      "source": [
        "divide(6, 2)\n",
        "# 3.0"
      ]
    },
    {
      "cell_type": "markdown",
      "metadata": {
        "id": "GZSd-8Wiec7o"
      },
      "source": [
        "* Use keyword arguments so that we can write 2, and then 6, yet still get 3."
      ]
    },
    {
      "cell_type": "code",
      "execution_count": 9,
      "metadata": {
        "id": "WUu0-dGpec7p",
        "outputId": "f8d3f28a-0da8-4c87-a790-396ab7a84f54",
        "colab": {
          "base_uri": "https://localhost:8080/"
        }
      },
      "outputs": [
        {
          "output_type": "execute_result",
          "data": {
            "text/plain": [
              "3.0"
            ]
          },
          "metadata": {},
          "execution_count": 9
        }
      ],
      "source": [
        "divide(second_number=2, first_number=6)\n",
        "# 3"
      ]
    },
    {
      "cell_type": "markdown",
      "metadata": {
        "id": "YUMhvYJhec7p"
      },
      "source": [
        "Now change the function `divide` so that when `second_number` is not defined, we divide by one."
      ]
    },
    {
      "cell_type": "code",
      "execution_count": 10,
      "metadata": {
        "id": "ZZs6w-cvec7q",
        "outputId": "3f9c6235-2b1b-4bd8-801d-359297a0c45c",
        "colab": {
          "base_uri": "https://localhost:8080/"
        }
      },
      "outputs": [
        {
          "output_type": "execute_result",
          "data": {
            "text/plain": [
              "6.0"
            ]
          },
          "metadata": {},
          "execution_count": 10
        }
      ],
      "source": [
        "divide(6)\n",
        "# 6"
      ]
    },
    {
      "cell_type": "markdown",
      "metadata": {
        "id": "Uf1trbR6ec7r"
      },
      "source": [
        "### Loops Warmup"
      ]
    },
    {
      "cell_type": "code",
      "execution_count": 17,
      "metadata": {
        "id": "lJ8nAYXNec7s"
      },
      "outputs": [],
      "source": [
        "parks = ['bryant', 'central', 'battery']"
      ]
    },
    {
      "cell_type": "markdown",
      "metadata": {
        "id": "3r70r-Ylec7t"
      },
      "source": [
        "* Loop through each of the parks and print a capitalized version of each park"
      ]
    },
    {
      "cell_type": "code",
      "execution_count": 19,
      "metadata": {
        "id": "xOsXzLvJec7t",
        "outputId": "5581ce85-6538-4073-a74b-75eb4ddfc6d6",
        "colab": {
          "base_uri": "https://localhost:8080/"
        }
      },
      "outputs": [
        {
          "output_type": "stream",
          "name": "stdout",
          "text": [
            "Bryant\n",
            "Central\n",
            "Battery\n"
          ]
        }
      ],
      "source": [
        "for park in parks:\n",
        "  print(park.capitalize())\n",
        "# Bryant\n",
        "# Central\n",
        "# Battery"
      ]
    },
    {
      "cell_type": "markdown",
      "metadata": {
        "id": "5L3vhMoUec7t"
      },
      "source": [
        "* Next, use loops to create a list of the `capitalized_parks` where each park is capitalized."
      ]
    },
    {
      "cell_type": "code",
      "execution_count": 20,
      "metadata": {
        "id": "1xEfTcqDec7u"
      },
      "outputs": [],
      "source": [
        "capitalized_parks = [park.capitalize() for park in parks]"
      ]
    },
    {
      "cell_type": "code",
      "execution_count": 21,
      "metadata": {
        "id": "PKW5cS6-ec7u",
        "outputId": "3682367f-c984-42c8-c9d9-8410434af1f9",
        "colab": {
          "base_uri": "https://localhost:8080/"
        }
      },
      "outputs": [
        {
          "output_type": "execute_result",
          "data": {
            "text/plain": [
              "['Bryant', 'Central', 'Battery']"
            ]
          },
          "metadata": {},
          "execution_count": 21
        }
      ],
      "source": [
        "capitalized_parks\n",
        "# ['Bryant', 'Central', 'Battery']"
      ]
    },
    {
      "cell_type": "markdown",
      "metadata": {
        "id": "y8JcY0ZIec73"
      },
      "source": [
        "* Working with lists of dictionaries"
      ]
    },
    {
      "cell_type": "code",
      "execution_count": 22,
      "metadata": {
        "id": "ZIHH8ntmec73"
      },
      "outputs": [],
      "source": [
        "detailed_parks = [\n",
        "    {'name': 'Bryant Park', 'location': 'Midtown', 'acres': 9.6},\n",
        "    {'name': 'Central Park', 'location': 'Uptown', 'acres': 840},\n",
        "    {'name': 'Battery Park', 'location': 'Downtown', 'acres': 25},\n",
        "    {'name': 'Morningside Park', 'location': 'Morningside', 'acres': 30}\n",
        "]"
      ]
    },
    {
      "cell_type": "markdown",
      "metadata": {
        "id": "tJM5A8FHec75"
      },
      "source": [
        "* Loop through the parks and add the location of each park to a list called `park_locations`"
      ]
    },
    {
      "cell_type": "code",
      "execution_count": 24,
      "metadata": {
        "id": "KNSWtNWCec75",
        "outputId": "33f9871e-1d7c-4fe1-b4bc-4c944fd65050",
        "colab": {
          "base_uri": "https://localhost:8080/"
        }
      },
      "outputs": [
        {
          "output_type": "execute_result",
          "data": {
            "text/plain": [
              "['Midtown', 'Uptown', 'Downtown', 'Morningside']"
            ]
          },
          "metadata": {},
          "execution_count": 24
        }
      ],
      "source": [
        "park_locations = [park['location'] for park in detailed_parks]\n",
        "\n",
        "park_locations\n",
        "\n",
        "# ['Midtown', 'Uptown', 'Downtown', 'Morningside']"
      ]
    },
    {
      "cell_type": "markdown",
      "metadata": {
        "id": "19w_jQ9rec76"
      },
      "source": [
        "* Then use list comprehension to create a list of park names."
      ]
    },
    {
      "cell_type": "code",
      "execution_count": 26,
      "metadata": {
        "id": "PCV3mCtaec76",
        "outputId": "fb600198-f68e-4076-ffd6-0b56e7687bc3",
        "colab": {
          "base_uri": "https://localhost:8080/"
        }
      },
      "outputs": [
        {
          "output_type": "execute_result",
          "data": {
            "text/plain": [
              "['Bryant Park', 'Central Park', 'Battery Park', 'Morningside Park']"
            ]
          },
          "metadata": {},
          "execution_count": 26
        }
      ],
      "source": [
        "park_names = [park['name'] for park in detailed_parks]\n",
        "park_names\n",
        "\n",
        "\n",
        "# ['Bryant Park', 'Central Park', 'Battery Park', 'Morningside Park']"
      ]
    },
    {
      "cell_type": "markdown",
      "metadata": {
        "id": "ZA6Am1zQec77"
      },
      "source": [
        "* Loop through each of the parks, and only add the parks that are strictly less than 30 acres.  Assign them to the list, smaller parks."
      ]
    },
    {
      "cell_type": "code",
      "execution_count": 29,
      "metadata": {
        "id": "CVH62G4sec77",
        "outputId": "06c30d7d-e4eb-4607-d17c-db8ba18232a9",
        "colab": {
          "base_uri": "https://localhost:8080/"
        }
      },
      "outputs": [
        {
          "output_type": "execute_result",
          "data": {
            "text/plain": [
              "[{'name': 'Bryant Park', 'location': 'Midtown', 'acres': 9.6},\n",
              " {'name': 'Battery Park', 'location': 'Downtown', 'acres': 25}]"
            ]
          },
          "metadata": {},
          "execution_count": 29
        }
      ],
      "source": [
        "smaller_parks = [park for park in detailed_parks if park['acres'] < 30]\n",
        "\n",
        "smaller_parks \n",
        "# [\n",
        "# {'name': 'Battery Park', 'location': 'Downtown', 'acres': 25},\n",
        "# {'name': 'Bryant Park', 'location': 'Midtown', 'acres': 9.6} \n",
        "# ]"
      ]
    },
    {
      "cell_type": "markdown",
      "metadata": {
        "id": "9mRp0nHpec78"
      },
      "source": [
        "* Write a function that allows you to specify provide the size of a park to select."
      ]
    },
    {
      "cell_type": "code",
      "execution_count": 30,
      "metadata": {
        "id": "-q2cvjzRec7_"
      },
      "outputs": [],
      "source": [
        "def parks_less_than(parks, size):\n",
        "    return [park for park in parks if park['acres'] < size]"
      ]
    },
    {
      "cell_type": "code",
      "execution_count": 31,
      "metadata": {
        "id": "c773gxrvec7_",
        "outputId": "064acca7-e1b8-48dd-fab7-dde33fb35e1d",
        "colab": {
          "base_uri": "https://localhost:8080/"
        }
      },
      "outputs": [
        {
          "output_type": "execute_result",
          "data": {
            "text/plain": [
              "[{'name': 'Bryant Park', 'location': 'Midtown', 'acres': 9.6}]"
            ]
          },
          "metadata": {},
          "execution_count": 31
        }
      ],
      "source": [
        "parks_less_than(detailed_parks, 10)\n",
        "# [{'name': 'Bryant Park', 'location': 'Midtown', 'acres': 9.6}]"
      ]
    },
    {
      "cell_type": "code",
      "execution_count": 32,
      "metadata": {
        "id": "r_Bzz9PVec8A",
        "outputId": "d10cbb94-821c-4507-8cb8-44a39af06409",
        "colab": {
          "base_uri": "https://localhost:8080/"
        }
      },
      "outputs": [
        {
          "output_type": "execute_result",
          "data": {
            "text/plain": [
              "[{'name': 'Bryant Park', 'location': 'Midtown', 'acres': 9.6},\n",
              " {'name': 'Battery Park', 'location': 'Downtown', 'acres': 25},\n",
              " {'name': 'Morningside Park', 'location': 'Morningside', 'acres': 30}]"
            ]
          },
          "metadata": {},
          "execution_count": 32
        }
      ],
      "source": [
        "parks_less_than(detailed_parks, 50)\n",
        "# [{'name': 'Bryant Park', 'location': 'Midtown', 'acres': 9.6},\n",
        "#  {'name': 'Battery Park', 'location': 'Downtown', 'acres': 25},\n",
        "#  {'name': 'Morningside Park', 'location': 'Morningside', 'acres': 30}]"
      ]
    },
    {
      "cell_type": "markdown",
      "metadata": {
        "id": "oEoAsFxtec8A"
      },
      "source": [
        "Now write a function that only returns the names of a park smaller than a specified size."
      ]
    },
    {
      "cell_type": "code",
      "execution_count": 33,
      "metadata": {
        "id": "sPqst2pdec8A"
      },
      "outputs": [],
      "source": [
        "def park_name_less_than(parks, size):\n",
        "    return [park['name'] for park in parks if park['acres'] < size]"
      ]
    },
    {
      "cell_type": "code",
      "execution_count": 34,
      "metadata": {
        "id": "h9LDjWdkec8A",
        "outputId": "5db71f9f-f01f-4473-94ad-c74dd749ec06",
        "colab": {
          "base_uri": "https://localhost:8080/"
        }
      },
      "outputs": [
        {
          "output_type": "execute_result",
          "data": {
            "text/plain": [
              "['Bryant Park']"
            ]
          },
          "metadata": {},
          "execution_count": 34
        }
      ],
      "source": [
        "park_name_less_than(detailed_parks, 10)\n",
        "# ['Bryant Park']"
      ]
    },
    {
      "cell_type": "code",
      "execution_count": 35,
      "metadata": {
        "id": "oQzQktXSec8C",
        "outputId": "3f131df8-397a-42a4-a763-15324c85a70d",
        "colab": {
          "base_uri": "https://localhost:8080/"
        }
      },
      "outputs": [
        {
          "output_type": "execute_result",
          "data": {
            "text/plain": [
              "['Bryant Park', 'Battery Park', 'Morningside Park']"
            ]
          },
          "metadata": {},
          "execution_count": 35
        }
      ],
      "source": [
        "park_name_less_than(detailed_parks, 50)\n",
        "# ['Bryant Park', 'Battery Park', 'Morningside Park']"
      ]
    }
  ],
  "metadata": {
    "kernelspec": {
      "display_name": "Python 3 (ipykernel)",
      "language": "python",
      "name": "python3"
    },
    "language_info": {
      "codemirror_mode": {
        "name": "ipython",
        "version": 3
      },
      "file_extension": ".py",
      "mimetype": "text/x-python",
      "name": "python",
      "nbconvert_exporter": "python",
      "pygments_lexer": "ipython3",
      "version": "3.9.10"
    },
    "colab": {
      "provenance": [],
      "include_colab_link": true
    }
  },
  "nbformat": 4,
  "nbformat_minor": 0
}